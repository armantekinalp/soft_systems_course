{
 "cells": [
  {
   "cell_type": "code",
   "execution_count": null,
   "metadata": {},
   "outputs": [],
   "source": [
    "import numpy as np\n",
    "from scipy.integrate import solve_ivp\n",
    "from matplotlib import pyplot as plt\n",
    "try:\n",
    "    import seaborn as sns\n",
    "    sns.set_style(\"whitegrid\")\n",
    "    sns.set_context('talk')\n",
    "    #sns.set(font_scale=1.4)\n",
    "except ImportError:\n",
    "    plt.style.use('seaborn-whitegrid')\n",
    "plt.rcParams['font.size'] = 20\n",
    "%matplotlib inline\n",
    "\n",
    "# Credits : https://docs.scipy.org/doc/scipy/reference/generated/scipy.integrate.solve_ivp.html"
   ]
  },
  {
   "cell_type": "markdown",
   "metadata": {},
   "source": [
    "## Simple exponential decay\n",
    "$$ \\frac{dy}{dt} = -0.5y $$ given that $y(0) = 2$"
   ]
  },
  {
   "cell_type": "code",
   "execution_count": null,
   "metadata": {},
   "outputs": [],
   "source": [
    "def exponential_decay(t, y): return -0.5 * y"
   ]
  },
  {
   "cell_type": "code",
   "execution_count": null,
   "metadata": {},
   "outputs": [],
   "source": [
    "initial_value = 2.0\n",
    "sol = solve_ivp(exponential_decay, [0, 10], [initial_value])"
   ]
  },
  {
   "cell_type": "code",
   "execution_count": null,
   "metadata": {},
   "outputs": [],
   "source": [
    "def analytical_solution(t) : return initial_value * np.exp(-0.5 * t)"
   ]
  },
  {
   "cell_type": "code",
   "execution_count": null,
   "metadata": {},
   "outputs": [],
   "source": [
    "time_v = sol.t\n",
    "fig = plt.figure(1, figsize=(8,5))\n",
    "ax = fig.add_subplot(111)\n",
    "ax.scatter(time_v, sol.y[0])\n",
    "anal_time = np.linspace(time_v[0], time_v[-1], 100)\n",
    "ax.plot(anal_time, analytical_solution(anal_time), 'r--')\n",
    "ax.set_xlabel('t')\n",
    "ax.set_ylabel('y(t)')"
   ]
  },
  {
   "cell_type": "markdown",
   "metadata": {},
   "source": [
    "## Lotka Volterra\n",
    "\n",
    "$${\\displaystyle {\\begin{aligned}{\\frac {dx}{dt}}&=a x-b xy,\\\\{\\frac {dy}{dt}}&=d xy-c y,\\end{aligned}}}$$\n",
    "where $a,b,c,d$ are parameters (independent of the solution $(x,y)$), set to $ 1.5, 1.0, 3.0, 1.0 $ here. \n",
    "\n",
    "The initial conditions are $x(0) = 10$ and $y(0) = 5$."
   ]
  },
  {
   "cell_type": "code",
   "execution_count": null,
   "metadata": {},
   "outputs": [],
   "source": [
    "def lotkavolterra(t, z, a, b, c, d):\n",
    "    x, y = z\n",
    "    return [a*x - b*x*y, -c*y + d*x*y]"
   ]
  },
  {
   "cell_type": "code",
   "execution_count": null,
   "metadata": {},
   "outputs": [],
   "source": [
    "sol = solve_ivp(lotkavolterra, [0, 15], [10, 5], args=(1.5, 1, 3, 1), dense_output=True)"
   ]
  },
  {
   "cell_type": "code",
   "execution_count": null,
   "metadata": {},
   "outputs": [],
   "source": [
    "t = np.linspace(0, 15, 300)\n",
    "z = sol.sol(t)\n",
    "fig = plt.figure(2, figsize=(8,5))\n",
    "ax = fig.add_subplot(111)\n",
    "ax.plot(t, z.T)\n",
    "ax.set_xlabel('t')\n",
    "ax.legend(['x', 'y'], shadow=True)\n",
    "ax.set_title('Lotka-Volterra System')"
   ]
  }
 ],
 "metadata": {
  "kernelspec": {
   "display_name": "Python 3",
   "language": "python",
   "name": "python3"
  },
  "language_info": {
   "codemirror_mode": {
    "name": "ipython",
    "version": 3
   },
   "file_extension": ".py",
   "mimetype": "text/x-python",
   "name": "python",
   "nbconvert_exporter": "python",
   "pygments_lexer": "ipython3",
   "version": "3.7.6"
  }
 },
 "nbformat": 4,
 "nbformat_minor": 2
}
