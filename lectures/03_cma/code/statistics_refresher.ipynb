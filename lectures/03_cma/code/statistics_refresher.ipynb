{
 "cells": [
  {
   "cell_type": "markdown",
   "metadata": {},
   "source": [
    "# Probability and joint-probability distributions"
   ]
  },
  {
   "cell_type": "code",
   "execution_count": null,
   "metadata": {},
   "outputs": [],
   "source": [
    "import numpy as np\n",
    "import matplotlib.pyplot as plt\n",
    "import matplotlib.colors as colors\n",
    "from matplotlib import cm \n",
    "from mpl_toolkits.mplot3d import axes3d\n",
    "from scipy.stats import norm, multivariate_normal\n",
    "import math\n",
    "\n",
    "%matplotlib inline\n",
    "%config InlineBackend.figure_format = 'retina'\n",
    "# plt.rc('text', usetex=True)\n",
    "# plt.rc('font', family='serif')\n",
    "# plt.rcParams['text.latex.preamble'] ='\\\\usepackage{libertine}\\n\\\\usepackage[utf8]{inputenc}'\n",
    "\n",
    "try:\n",
    "    import seaborn as sns\n",
    "    sns.set_style(\"whitegrid\")\n",
    "    sns.set_context('talk')\n",
    "    #sns.set(font_scale=1.4)\n",
    "except ValueWrorr:\n",
    "    plt.style.use('seaborn-whitegrid')"
   ]
  },
  {
   "cell_type": "markdown",
   "metadata": {},
   "source": [
    "### Statistics recap\n",
    "\n",
    "* [Random variable](http://en.wikipedia.org/wiki/Random_variable): a variable whose value is subject to variations due to __chance__. A random variable can take on a set of possible different values, each with an associated probability, in contrast to other mathematical variables.\n",
    "\n",
    "* [Probability distribution](http://en.wikipedia.org/wiki/Probability_distribution): mathematical function describing the possible values of a random variable and their associated probabilities.\n",
    "\n",
    "* [Probability density function (pdf)](http://en.wikipedia.org/wiki/Probability_density_function) of a __continuous random variable__ is a function that describes the relative likelihood for this random variable to take on a given value. \n",
    "     * The probability of the random variable falling within a particular range of values is given by the integral of this variable’s density over that range.\n",
    "     * The probability density function is nonnegative everywhere, and its integral over the entire space is equal to one.\n",
    "     \n",
    "<img src='http://upload.wikimedia.org/wikipedia/commons/2/25/The_Normal_Distribution.svg' width='50%' align='center'/>\n",
    " "
   ]
  },
  {
   "cell_type": "markdown",
   "metadata": {},
   "source": [
    "### [Moments](http://en.wikipedia.org/wiki/Moment_(mathematics))\n",
    "\n",
    "The probability distribution of a random variable is often characterised by a small number of parameters, which also have a practical interpretation.\n",
    "\n",
    "* [Mean](http://en.wikipedia.org/wiki/Mean) (a.k.a expected value) refers to one measure of the central tendency either of a probability distribution or of the random variable characterized by that distribution.\n",
    "    * population mean: $\\mu = \\operatorname{E}[X]$.\n",
    "    * estimation of sample mean: $\\bar{x}$.\n",
    "* [Standard deviation](http://en.wikipedia.org/wiki/Standard_deviation) measures the amount of variation or dispersion from the mean.\n",
    "    * population deviation:\n",
    "    $$\n",
    "\\sigma = \\sqrt{\\operatorname E[X^2]-(\\operatorname E[X])^2} = \\sqrt{\\frac{1}{N} \\sum_{i=1}^N (x_i - \\mu)^2}.\n",
    "$$\n",
    "    * unbiased estimator:\n",
    "    $$ \n",
    "    s^2 = \\frac{1}{N-1} \\sum_{i=1}^N (x_i - \\overline{x})^2.\n",
    "    $$"
   ]
  },
  {
   "cell_type": "markdown",
   "metadata": {},
   "source": [
    "### A tale of two samples"
   ]
  },
  {
   "cell_type": "code",
   "execution_count": null,
   "metadata": {},
   "outputs": [],
   "source": [
    "sample1 = np.random.normal(0, 0.5, 1000)\n",
    "sample2 = np.random.normal(1,1,500)"
   ]
  },
  {
   "cell_type": "code",
   "execution_count": null,
   "metadata": {},
   "outputs": [],
   "source": [
    "def plot_normal_sample(sample, mu, sigma):\n",
    "    'Plots an histogram and the normal distribution corresponding to the parameters.'\n",
    "    with plt.style.context('fivethirtyeight'):\n",
    "        x = np.linspace(mu - 4*sigma, mu + 4*sigma, 100)\n",
    "        plt.plot(x, norm.pdf(x, mu, sigma), 'b', lw=2)\n",
    "        plt.hist(sample, 30, density=True, alpha=0.2)\n",
    "        plt.annotate('3$\\sigma$', \n",
    "                         xy=(mu + 3*sigma, 0),  xycoords='data',\n",
    "                         xytext=(0, 100), textcoords='offset points',\n",
    "                         fontsize=15,\n",
    "                         arrowprops=dict(arrowstyle=\"->\",\n",
    "                                        connectionstyle=\"arc,angleA=180,armA=20,angleB=90,armB=15,rad=7\"))\n",
    "        plt.annotate('-3$\\sigma$', \n",
    "                         xy=(mu -3*sigma, 0), xycoords='data', \n",
    "                         xytext=(0, 100), textcoords='offset points',\n",
    "                         fontsize=15,\n",
    "                         arrowprops=dict(arrowstyle=\"->\",\n",
    "                                         connectionstyle=\"arc,angleA=180,armA=20,angleB=90,armB=15,rad=7\"))"
   ]
  },
  {
   "cell_type": "code",
   "execution_count": null,
   "metadata": {},
   "outputs": [],
   "source": [
    "plt.figure(figsize=(11,4))\n",
    "plt.subplot(121)\n",
    "plot_normal_sample(sample1, 0, 0.5)\n",
    "plt.title('Sample 1: $\\mu=0$, $\\sigma=0.5$')\n",
    "plt.subplot(122)\n",
    "plot_normal_sample(sample2, 1, 1)\n",
    "plt.title('Sample 2: $\\mu=1$, $\\sigma=1$')\n",
    "plt.tight_layout();"
   ]
  },
  {
   "cell_type": "code",
   "execution_count": null,
   "metadata": {},
   "outputs": [],
   "source": [
    "print('Sample 1; estimated mean:', sample1.mean(), ' and std. dev.: ', sample1.std())\n",
    "print('Sample 2; estimated mean:', sample2.mean(), ' and std. dev.: ', sample2.std())"
   ]
  },
  {
   "cell_type": "markdown",
   "metadata": {},
   "source": [
    "### [Joint probability distributions](https://en.wikipedia.org/wiki/Joint_probability_distribution)\n",
    "\n",
    "Given random variables $X , Y , \\ldots$, that are defined on a probability space, the joint probability distribution for $X , Y , \\ldots$ is a probability distribution that gives the probability that each of $X , Y , \\ldots$ falls in any particular range or discrete set of values specified for that variable."
   ]
  },
  {
   "cell_type": "markdown",
   "metadata": {},
   "source": [
    "[Covariance](http://en.wikipedia.org/wiki/Covariance) is a measure of how much two random variables change together, usually in the context of such joint probability distributions. \n",
    "$$\n",
    "\\operatorname{cov}(X,Y) = \\operatorname{E}{\\big[(X - \\operatorname{E}[X])(Y - \\operatorname{E}[Y])\\big]},\n",
    "$$\n",
    "$$\n",
    "\\operatorname{cov}(X,X) = s(X),\n",
    "$$\n",
    "\n",
    "* The sign of the covariance therefore shows the tendency in the linear relationship between the variables. \n",
    "* The magnitude of the covariance is not easy to interpret. \n",
    "* The normalized version of the covariance, the correlation coefficient, however, shows by its magnitude the strength of the linear relation."
   ]
  },
  {
   "cell_type": "markdown",
   "metadata": {},
   "source": [
    "### Understanding covariance"
   ]
  },
  {
   "cell_type": "code",
   "execution_count": null,
   "metadata": {},
   "outputs": [],
   "source": [
    "sample_2d = np.array(list(zip(sample1, np.ones(len(sample1))))).T"
   ]
  },
  {
   "cell_type": "code",
   "execution_count": null,
   "metadata": {},
   "outputs": [],
   "source": [
    "fig = plt.figure(1, figsize=(8,5))\n",
    "ax = fig.add_subplot(111)\n",
    "ax.scatter(sample_2d[0,:], sample_2d[1,:], marker='x')\n",
    "ax.set_xlabel('X')\n",
    "ax.set_ylabel('Y')"
   ]
  },
  {
   "cell_type": "code",
   "execution_count": null,
   "metadata": {},
   "outputs": [],
   "source": [
    "np.cov(sample_2d) # computes covariance between the two components of the sample"
   ]
  },
  {
   "cell_type": "markdown",
   "metadata": {},
   "source": [
    "As the sample is only distributed along one axis, the covariance does not detects any relationship between them.\n",
    "What happens when we rotate the sample?"
   ]
  },
  {
   "cell_type": "code",
   "execution_count": null,
   "metadata": {},
   "outputs": [],
   "source": [
    "def rotate_sample(sample, angle=-45):\n",
    "    'Rotates a sample by `angle` degrees.'\n",
    "    theta = np.deg2rad(angle)\n",
    "    rot_matrix = np.array([[np.cos(theta), -np.sin(theta)], \n",
    "                           [np.sin(theta), np.cos(theta)]])\n",
    "    return sample.T.dot(rot_matrix).T"
   ]
  },
  {
   "cell_type": "code",
   "execution_count": null,
   "metadata": {},
   "outputs": [],
   "source": [
    "rot_sample_2d = rotate_sample(sample_2d)"
   ]
  },
  {
   "cell_type": "code",
   "execution_count": null,
   "metadata": {},
   "outputs": [],
   "source": [
    "fig = plt.figure(2, figsize=(8,5))\n",
    "ax = fig.add_subplot(111)\n",
    "ax.scatter(rot_sample_2d[0,:], rot_sample_2d[1,:], marker='x')\n",
    "ax.set_xlabel('X')\n",
    "ax.set_ylabel('Y')"
   ]
  },
  {
   "cell_type": "code",
   "execution_count": null,
   "metadata": {},
   "outputs": [],
   "source": [
    "np.cov(rot_sample_2d)"
   ]
  },
  {
   "cell_type": "markdown",
   "metadata": {},
   "source": [
    "### A two-dimensional normally-distributed variable"
   ]
  },
  {
   "cell_type": "code",
   "execution_count": null,
   "metadata": {},
   "outputs": [],
   "source": [
    "mu = [0,1]\n",
    "cov = [[1,0],[0,0.2]] # diagonal covariance, points lie on x or y-axis\n",
    "sample = np.random.multivariate_normal(mu,cov,100).T\n",
    "fig = plt.figure(3, figsize=(8,5))\n",
    "ax = fig.add_subplot(111)\n",
    "ax.scatter(sample[0], sample[1], marker='x', color='b', alpha=0.29)\n",
    "\n",
    "estimated_mean = sample.mean(axis=1)\n",
    "estimated_cov = np.cov(sample)\n",
    "e_x,e_y = np.random.multivariate_normal(estimated_mean,estimated_cov,500).T\n",
    "\n",
    "ax.plot(e_x,e_y,'rx', alpha=0.47)\n",
    "x, y = np.mgrid[-4:4:.01, -1:3:.01]\n",
    "pos = np.empty(x.shape + (2,))\n",
    "pos[:, :, 0] = x; pos[:, :, 1] = y\n",
    "rv = multivariate_normal(estimated_mean, estimated_cov)\n",
    "ax.contour(x, y, rv.pdf(pos), cmap=cm.viridis_r, linewidths=3)\n",
    "ax.set_aspect('equal')\n",
    "ax.set_xlabel('X')\n",
    "ax.set_ylabel('Y')"
   ]
  },
  {
   "cell_type": "code",
   "execution_count": null,
   "metadata": {},
   "outputs": [],
   "source": [
    "fig = plt.figure(4, figsize=(12,8))\n",
    "ax = fig.gca(projection='3d')\n",
    "ax.plot_surface(x, y, rv.pdf(pos), cmap=cm.viridis_r, rstride=30, cstride=10, linewidth=0, alpha=0.47)\n",
    "ax.plot_wireframe(x, y, rv.pdf(pos), linewidth=0.47, alpha=0.47, color='k')\n",
    "ax.scatter(e_x, e_y, 0.4, marker='.', alpha=0.47)\n",
    "ax.axis('tight')"
   ]
  },
  {
   "cell_type": "markdown",
   "metadata": {},
   "source": [
    "Again, what happens if we rotate the sample?"
   ]
  },
  {
   "cell_type": "code",
   "execution_count": null,
   "metadata": {},
   "outputs": [],
   "source": [
    "rot_sample = rotate_sample(sample)\n",
    "estimated_mean = rot_sample.mean(axis=1)\n",
    "estimated_cov = np.cov(rot_sample)\n",
    "e_x,e_y = np.random.multivariate_normal(estimated_mean,estimated_cov,500).T"
   ]
  },
  {
   "cell_type": "code",
   "execution_count": null,
   "metadata": {},
   "outputs": [],
   "source": [
    "fig = plt.figure(5, figsize=(11,4))\n",
    "ax = plt.subplot(121)\n",
    "ax.scatter(rot_sample[0,:], rot_sample[1,:], marker='x', alpha=0.7)\n",
    "ax.set_title('\"Original\" data')\n",
    "ax.set_aspect('equal')\n",
    "ax = plt.subplot(122)\n",
    "ax.scatter(e_x, e_y, marker='o', color='g', alpha=0.7)\n",
    "ax.set_title('Sampled data')\n",
    "ax.set_aspect('equal')"
   ]
  },
  {
   "cell_type": "code",
   "execution_count": null,
   "metadata": {},
   "outputs": [],
   "source": [
    "x, y = np.mgrid[-4:4:.01, -3:3:.01]\n",
    "pos = np.empty(x.shape + (2,))\n",
    "pos[:, :, 0] = x; pos[:, :, 1] = y\n",
    "rv = multivariate_normal(estimated_mean, estimated_cov)"
   ]
  },
  {
   "cell_type": "code",
   "execution_count": null,
   "metadata": {},
   "outputs": [],
   "source": [
    "fig = plt.figure(figsize=(12,8))\n",
    "ax = fig.gca(projection='3d')\n",
    "ax.plot_surface(x, y, rv.pdf(pos), cmap=cm.viridis_r, rstride=30, cstride=10, linewidth=0, alpha=0.47)\n",
    "ax.plot_wireframe(x, y, rv.pdf(pos), linewidth=0.47, alpha=0.47, color='k')\n",
    "ax.scatter(e_x, e_y, 0.4, marker='.', alpha=0.47)\n",
    "ax.axis('tight');"
   ]
  }
 ],
 "metadata": {
  "kernelspec": {
   "display_name": "Python 3",
   "language": "python",
   "name": "python3"
  },
  "language_info": {
   "codemirror_mode": {
    "name": "ipython",
    "version": 3
   },
   "file_extension": ".py",
   "mimetype": "text/x-python",
   "name": "python",
   "nbconvert_exporter": "python",
   "pygments_lexer": "ipython3",
   "version": "3.7.6"
  }
 },
 "nbformat": 4,
 "nbformat_minor": 2
}
