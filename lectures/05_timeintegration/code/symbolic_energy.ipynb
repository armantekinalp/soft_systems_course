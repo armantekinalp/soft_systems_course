{
 "cells": [
  {
   "cell_type": "code",
   "execution_count": null,
   "metadata": {},
   "outputs": [],
   "source": [
    "import numpy as np\n",
    "from sympy import symbols, expand, simplify, sqrt, Matrix, cos, sin\n",
    "from sympy.abc import x,v,h,t,y"
   ]
  },
  {
   "cell_type": "code",
   "execution_count": null,
   "metadata": {},
   "outputs": [],
   "source": [
    "# Answer\n",
    "def position_verlet(dt, x, v, force_rule):\n",
    "    \"\"\"Does one iteration/timestep using the Position verlet scheme\n",
    "    \n",
    "    Parameters\n",
    "    ----------\n",
    "    dt : float\n",
    "        Simulation timestep in seconds\n",
    "    x : float/array-like\n",
    "        Quantity of interest / position of COM\n",
    "    v : float/array-like\n",
    "        Quantity of interest / velocity of COM\n",
    "    force_rule : ufunc\n",
    "        A function, f, that takes one argument and\n",
    "        returns the instantaneous forcing\n",
    "\n",
    "    Returns\n",
    "    -------\n",
    "    x_n : float/array-like\n",
    "        The quantity of interest at the Next time step\n",
    "    v_n : float/array-like\n",
    "        The quantity of interest at the Next time step\n",
    "    \"\"\"\n",
    "    temp_x = x + 0.5*dt*v\n",
    "    v_n = v + dt * force_rule(temp_x)\n",
    "    x_n = temp_x + 0.5 * dt * v_n\n",
    "    return x_n, v_n"
   ]
  },
  {
   "cell_type": "code",
   "execution_count": null,
   "metadata": {},
   "outputs": [],
   "source": [
    "# Answer\n",
    "def euler_fwd(dt, x, v, force_rule):\n",
    "    \"\"\"Does one iteration/timestep using the Euler forward scheme\n",
    "    \n",
    "    Parameters\n",
    "    ----------\n",
    "    dt : float\n",
    "        Simulation timestep in seconds\n",
    "    x : float/array-like\n",
    "        Quantity of interest / position of COM\n",
    "    v : float/array-like\n",
    "        Quantity of interest / velocity of COM\n",
    "    force_rule : ufunc\n",
    "        A function, f, that takes one argument and\n",
    "        returns the instantaneous forcing\n",
    "\n",
    "    Returns\n",
    "    -------\n",
    "    x_n : float/array-like\n",
    "        The quantity of interest at the Next time step\n",
    "    v_n : float/array-like\n",
    "        The quantity of interest at the Next time step\n",
    "    \"\"\"\n",
    "    x_n = x + dt * v\n",
    "    v_n = v + dt * force_rule(x)\n",
    "    return x_n, v_n"
   ]
  },
  {
   "cell_type": "code",
   "execution_count": null,
   "metadata": {},
   "outputs": [],
   "source": [
    "def runge_kutta4(dt, x, v, force_rule):\n",
    "    \"\"\"Does one iteration/timestep using the RK4 scheme\n",
    "    \n",
    "    Parameters\n",
    "    ----------\n",
    "    dt : float\n",
    "        Simulation timestep in seconds\n",
    "    x : float/array-like\n",
    "        Quantity of interest / position of COM\n",
    "    v : float/array-like\n",
    "        Quantity of interest / velocity of COM\n",
    "    force_rule : ufunc\n",
    "        A function, f, that takes one argument and\n",
    "        returns the instantaneous forcing\n",
    "\n",
    "    Returns\n",
    "    -------\n",
    "    x_n : float/array-like\n",
    "        The quantity of interest at the Next time step\n",
    "    v_n : float/array-like\n",
    "        The quantity of interest at the Next time step\n",
    "    \"\"\"\n",
    "    \n",
    "    def vector_func(y):\n",
    "        return Matrix([y[1], force_rule(y[0])])\n",
    "\n",
    "    # Base\n",
    "    u = Matrix([x,v])\n",
    "\n",
    "    # Stage 1\n",
    "    k_1 = dt*vector_func(u)\n",
    "\n",
    "    # Stage 2\n",
    "    k_2 = dt * vector_func(u + 0.5*k_1)\n",
    "\n",
    "    # Stage 3\n",
    "    k_3 = dt * vector_func(u + 0.5*k_2)\n",
    "\n",
    "    # Stage 4\n",
    "    k_4 = dt * vector_func(u + k_3)\n",
    "\n",
    "    u_n = u + (1./6.)*(k_1 + 2.*k_2 + 2.* k_3 + k_4)\n",
    "    \n",
    "    return u_n[0], u_n[1]"
   ]
  },
  {
   "cell_type": "code",
   "execution_count": null,
   "metadata": {},
   "outputs": [],
   "source": [
    "def harmonic(t_x):\n",
    "    return -t_x"
   ]
  },
  {
   "cell_type": "code",
   "execution_count": null,
   "metadata": {},
   "outputs": [],
   "source": [
    "init_energy = x**2 + y**2\n",
    "u, v = x, y\n",
    "for i in range(2):\n",
    "    u, v = position_verlet(h,u,v,harmonic)\n",
    "fin_energy = u**2 + v**2"
   ]
  },
  {
   "cell_type": "code",
   "execution_count": null,
   "metadata": {},
   "outputs": [],
   "source": [
    "init_energy"
   ]
  },
  {
   "cell_type": "code",
   "execution_count": null,
   "metadata": {},
   "outputs": [],
   "source": [
    "simplify(fin_energy.subs([(x,cos(t)), (y,sin(t))]))"
   ]
  },
  {
   "cell_type": "code",
   "execution_count": null,
   "metadata": {},
   "outputs": [],
   "source": [
    "temp = expand(fin_energy) - init_energy"
   ]
  },
  {
   "cell_type": "code",
   "execution_count": null,
   "metadata": {},
   "outputs": [],
   "source": [
    "new_temp = temp.subs(y,sqrt(1-x**2))"
   ]
  },
  {
   "cell_type": "code",
   "execution_count": null,
   "metadata": {},
   "outputs": [],
   "source": [
    "expand(new_temp)"
   ]
  },
  {
   "cell_type": "code",
   "execution_count": null,
   "metadata": {},
   "outputs": [],
   "source": [
    "init_energy = x**2 + y**2\n",
    "u, v = x, y\n",
    "for i in range(5):\n",
    "    u, v = euler_fwd(h,u,v,harmonic)\n",
    "fin_energy = u**2 + v**2"
   ]
  },
  {
   "cell_type": "code",
   "execution_count": null,
   "metadata": {},
   "outputs": [],
   "source": [
    "expand(simplify(fin_energy.subs([(x,cos(t)), (y,sin(t))])))"
   ]
  },
  {
   "cell_type": "code",
   "execution_count": null,
   "metadata": {},
   "outputs": [],
   "source": [
    "init_energy = x**2 + y**2\n",
    "u, v = x, y\n",
    "for i in range(2):\n",
    "    u, v = runge_kutta4(h,u,v,harmonic)\n",
    "fin_energy = u**2 + v**2"
   ]
  },
  {
   "cell_type": "code",
   "execution_count": null,
   "metadata": {},
   "outputs": [],
   "source": [
    "expand(simplify(fin_energy.subs([(x,cos(t)), (y,sin(t))])))"
   ]
  },
  {
   "cell_type": "code",
   "execution_count": null,
   "metadata": {},
   "outputs": [],
   "source": []
  }
 ],
 "metadata": {
  "kernelspec": {
   "display_name": "Python 3",
   "language": "python",
   "name": "python3"
  },
  "language_info": {
   "codemirror_mode": {
    "name": "ipython",
    "version": 3
   },
   "file_extension": ".py",
   "mimetype": "text/x-python",
   "name": "python",
   "nbconvert_exporter": "python",
   "pygments_lexer": "ipython3",
   "version": "3.7.7"
  }
 },
 "nbformat": 4,
 "nbformat_minor": 2
}
