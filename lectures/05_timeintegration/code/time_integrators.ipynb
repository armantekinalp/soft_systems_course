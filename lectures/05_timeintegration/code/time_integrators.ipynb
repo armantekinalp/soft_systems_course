{
 "cells": [
  {
   "cell_type": "markdown",
   "metadata": {},
   "source": [
    "### Code setup"
   ]
  },
  {
   "cell_type": "code",
   "execution_count": null,
   "metadata": {},
   "outputs": [],
   "source": [
    "import numpy as np\n",
    "from matplotlib import pyplot as plt\n",
    "import seaborn as sns\n",
    "sns.set_context(\"talk\", font_scale=1.5, rc={\"lines.linewidth\": 2.5})\n",
    "sns.set_style(\"whitegrid\")\n",
    "from IPython.display import HTML\n",
    "# from matplotlib import rcParams\n",
    "from matplotlib import animation\n",
    "#rcParams['font.family']='sans-serif' \n",
    "#rcParams('font', serif='Helvetica Neue') \n",
    "# rcParams['text.usetex']= True \n",
    "#rcParams.update({'font.size': 22})\n",
    "%matplotlib inline\n",
    "#%matplotlib nbagg"
   ]
  },
  {
   "cell_type": "markdown",
   "metadata": {},
   "source": [
    "## Solving initial (-boundary) value problems\n",
    "Time is something we all have to deal with and manage. Within the domain of scientific applications, this usually defaults to solving an initial value problem, specified in the following form:\n",
    "$$ \\frac{\\partial \\mathbf{u}}{\\partial t} = \\mathbf{F}(\\mathbf{u}, t)$$\n",
    ", as a partial differential equation (PDE). As we will see, on numerical discretization modifies the above PDE into a manageable form, wherein\n",
    "$$ \\mathbf{u}^{n+1} = \\sum_{i=0}^{k} \\alpha_i \\mathbf{u}^{n-i} + \\sum_{j=0}^{r} \\beta_j \\frac{\\partial \\mathbf{u}^{n-j}}{\\partial t} $$\n",
    "which for $k=1$ and $r=0$ looks something along these lines:\n",
    "$$ \\mathbf{u}^{n+1} = \\alpha_0 \\mathbf{u}^{n} + \\alpha_1 \\mathbf{u}^{n-1} + \\beta_0 \\frac{\\partial \\mathbf{u}^{n}}{\\partial t} $$\n",
    "which takes the current ($n$) and past ($n-1$) information to predict states in the next (future, $n+1$) iterations.\n",
    "\n",
    "Notice that $\\mathbf{F}(\\mathbf{u}, t)$ can also involve solving a boundary value problem, similar to our soft mechanics equations."
   ]
  },
  {
   "cell_type": "code",
   "execution_count": null,
   "metadata": {},
   "outputs": [],
   "source": [
    "class TimeStepper(object):\n",
    "    \"\"\" Class for wrapping a timestepper function with other goodies\n",
    "    \"\"\"\n",
    "    def __init__(self, i_x, i_v, i_dt, i_T):\n",
    "        \"\"\" Initialize the timestepper\n",
    "        \"\"\"\n",
    "        # What forcing function are we using?\n",
    "        self.forcing = None\n",
    "\n",
    "        # What timestepping algorithm are we using?\n",
    "        self.timestepper = None\n",
    "\n",
    "        self.nsteps = int(i_T/i_dt)\n",
    "        self.dt = i_dt\n",
    "\n",
    "        if len(i_x) == len(i_v):\n",
    "            # Same length, corresponding to index, data makes sense\n",
    "            self.ndim = len(i_x)\n",
    "            self.x = np.zeros((self.nsteps, self.ndim))\n",
    "            self.v = np.zeros((self.nsteps, self.ndim))\n",
    "            \n",
    "            # Set initial values\n",
    "            self.x[0] = np.array(i_x)\n",
    "            self.v[0] = np.array(i_v)\n",
    "        else:\n",
    "            raise RuntimeError('Length of initial velocity and position \\\n",
    "            not matching')\n",
    "\n",
    "    def set_forcing_function(self, t_func):\n",
    "        \"\"\" Set forcing function to be used \n",
    "        \"\"\"\n",
    "        if type(t_func) is not str:\n",
    "            try:\n",
    "                # If not string, try and evaluate the function\n",
    "                t_func(x[0])\n",
    "                # If the function works, set this function as forcing\n",
    "                self.forcing = t_func\n",
    "            except:\n",
    "                raise RuntimeError('Provided function cannot be evaluated')\n",
    "        else:\n",
    "            if t_func==\"harmonic\":\n",
    "                def harmonic(x):\n",
    "                    return -x\n",
    "                self.forcing = harmonic\n",
    "        \n",
    "    def error_norm(self):\n",
    "        \"\"\"  For testing convergence, defined as a special function \"\"\"\n",
    "        if self.forcing.__name__ == 'harmonic':\n",
    "            time_arr = np.arange(0.0, self.dt*self.nsteps, self.dt)\n",
    "            analytical_solution = self.x[0, :]*np.exp(-time_arr.reshape(-1,1))\n",
    "            return np.linalg.norm(analytical_solution - self.x, np.inf)\n",
    "            \n",
    "    def timestep_using(self, timestepper):\n",
    "        \"\"\" Provides access to internal variables x and v\n",
    "        Applies func over and over again till number of timesteps reached.\n",
    "        \"\"\"\n",
    "        self.timestepper = timestepper.__name__\n",
    "        for i in range(self.nsteps - 1):\n",
    "            # Do one cycle\n",
    "            self.x[i+1], self.v[i+1] = timestepper(self.dt, self.x[i], self.v[i], self.forcing)\n",
    "    \n",
    "    def draw(self, renderer):\n",
    "        \"\"\" Draw the matplotlib canvas with the portrait we want\n",
    "        \"\"\"\n",
    "        if self.timestepper:\n",
    "            # If there is a timestepper, then there is numerical data\n",
    "            # Plot them\n",
    "            renderer.scatter(self.x[0], self.v[0], c='k',marker='o')\n",
    "            renderer.plot(self.x, self.v, label=self.timestepper)\n",
    "            x_min, x_max = np.min(self.x), np.max(self.x)\n",
    "            v_min, v_max = np.min(self.v), np.max(self.v)\n",
    "            extension = 0.5\n",
    "            renderer.set_xlim(min(0.0, x_min) - extension, max(0.0, x_max) + extension)\n",
    "            renderer.set_ylim(min(0.0, x_min) - extension, max(0.0, v_max) + extension)\n",
    "            renderer.legend()\n",
    "        else:\n",
    "            # If there is no timestepper, you are looking for analytical data,\n",
    "            # if it exists\n",
    "            # Plot them instead\n",
    "            if self.forcing.__name__ == 'harmonic':\n",
    "                true_sol = plt.Circle((0, 0), 1.0, fill=None, edgecolor='k', linestyle='--', lw=4)\n",
    "                renderer.set_xlim(-1.5, 1.5)\n",
    "                renderer.set_ylim(-1.5, 1.5)\n",
    "                renderer.add_artist(true_sol)\n",
    "            # raise RuntimeError('No information found. Did you forget to run your timestepper?')\n",
    "        renderer.set_xlabel(r'$x$')\n",
    "        renderer.set_ylabel(r'$v$')\n",
    "        renderer.set_title(r'${}$'.format(self.forcing.__name__))\n",
    "        renderer.set_aspect('equal')\n",
    "\n",
    "    def animate(self, fig, renderer, color):\n",
    "        \"\"\" Access to the animate class from matplotlib\n",
    "        \"\"\"\n",
    "        self.timestepper = None\n",
    "\n",
    "        # animation function. This is called sequentially\n",
    "        def animate_in(i):\n",
    "            renderer.clear()\n",
    "            self.draw(renderer)\n",
    "            for j in range(i + 1):\n",
    "                renderer.plot([self.x[j], self.x[j+1]], [self.v[j], self.v[j+1]], marker='o', c=color, alpha=0.5**((i-j)/20.))\n",
    "        # ax2.plot([b.x[i], b.x[i+1]], [b.v[i], b.v[i+1]], marker='o', c='g')\n",
    "        #      line.set_data(b.x[i], b.v[i])\n",
    "        #      return (line,)\n",
    "\n",
    "        # call the animator. blit=True means only re-draw the parts that have changed.\n",
    "        anim = animation.FuncAnimation(fig, animate_in, frames=100, interval=5)\n",
    "\n",
    "        return anim"
   ]
  },
  {
   "cell_type": "markdown",
   "metadata": {},
   "source": [
    "## Time-stepping routines\n",
    "\n",
    "A variety of numerical algorithms for solving such initial value problems exist, and we are going to look at three main ones : (a) Euler method (or Euler forward) (b) Runge-Kutta-4/RK4 (multi-stage methods) and (c) Position Verlet (symplectic, area preserving) integrators, although others will be discussed on the way. We will attempt to compare these methods in terms of their ease (in understanding/implementation), order of accuracy (in comparison to the time step $dt$), function evaluations for each step $dt$ and some *special* properties. \n",
    "\n",
    "## Order of accuracy of time-steppers\n",
    "What's **order** of accuracy? Order of accuracy quantifies the rate of convergence of a numerical approximation of a differential equation to the exact solution.\n",
    "The numerical solution $\\mathbf{u}$ is said to be $n^{\\text{th}}$-order accurate if the error, $E(h):=\\lVert\\tilde{\\mathbf{u}}-\\mathbf{u} \\rVert$ is proportional to the step-size $ dt $, to the $n^{\\text{th}}$ power. That is\n",
    "\n",
    "$$ E(h)=\\lVert\\tilde{\\mathbf{u}}-\\mathbf{u} \\rVert\\leq Ch^{n} $$\n"
   ]
  },
  {
   "cell_type": "markdown",
   "metadata": {},
   "source": [
    "### Harmonic oscillator\n",
    "Let's consider the equations governing the dynamics of the harmonic oscillator next. What are harmonic oscillators? \n",
    "\n",
    "Any undamped linear spring-mass system! (*This statement is not completely true, but for this class it is*).\n",
    "![Springmass](https://i.stack.imgur.com/ny3Qc.gif \"springmass\")\n",
    "(Credits: User `kma`, https://tex.stackexchange.com/a/58448)"
   ]
  },
  {
   "cell_type": "code",
   "execution_count": null,
   "metadata": {},
   "outputs": [],
   "source": [
    "i_x = [1.0]\n",
    "i_v = [0.0]\n",
    "dt = 1.0\n",
    "f_T = 628.0\n",
    "\n",
    "fig, ax = plt.subplots(1,1, figsize=(10, 10))\n",
    "a = TimeStepper(i_x, i_v, dt, f_T)\n",
    "a.set_forcing_function('harmonic')\n",
    "a.draw(ax)\n",
    "# fig.savefig('true_solution.pdf')"
   ]
  },
  {
   "cell_type": "code",
   "execution_count": null,
   "metadata": {},
   "outputs": [],
   "source": [
    "def position_verlet(dt, x, v, force_rule):\n",
    "    temp_x = x + 0.5*dt*v\n",
    "    v_n = v + dt * force_rule(temp_x)\n",
    "    x_n = temp_x + 0.5 * dt * v_n\n",
    "    return x_n, v_n\n",
    "\n",
    "a.timestep_using(position_verlet)"
   ]
  },
  {
   "cell_type": "code",
   "execution_count": null,
   "metadata": {},
   "outputs": [],
   "source": [
    "a.draw(ax)\n",
    "fig\n",
    "# fig.savefig('position_verlet_1.0.pdf')"
   ]
  },
  {
   "cell_type": "code",
   "execution_count": null,
   "metadata": {},
   "outputs": [],
   "source": [
    "def velocity_verlet(dt, x, v, force_rule):\n",
    "    temp_v = v + 0.5*dt*force_rule(x)\n",
    "    x_n = x + dt * temp_v\n",
    "    v_n = temp_v + 0.5* dt * force_rule(x_n)\n",
    "    return x_n, v_n\n",
    "\n",
    "# a.timestep_using(velocity_verlet)\n",
    "# a.draw(ax)\n",
    "# fig"
   ]
  },
  {
   "cell_type": "code",
   "execution_count": null,
   "metadata": {},
   "outputs": [],
   "source": [
    "def euler_fwd(dt, x, v, force_rule):\n",
    "    x_n = x + dt * v\n",
    "    v_n = v + dt * force_rule(x)\n",
    "    return x_n, v_n\n",
    "\n",
    "a.timestep_using(euler_fwd)\n",
    "a.draw(ax)\n",
    "fig\n",
    "# fig.savefig('euler_fwd_1.0.pdf')"
   ]
  },
  {
   "cell_type": "code",
   "execution_count": null,
   "metadata": {},
   "outputs": [],
   "source": [
    "def euler_cromer(dt, x, v, force_rule):\n",
    "    x_n = x + dt * v\n",
    "    v_n = v + dt * force_rule(x_n)\n",
    "    return x_n, v_n\n",
    "\n",
    "# a.timestep_using(euler_cromer)\n",
    "# a.draw(ax)\n",
    "# fig"
   ]
  },
  {
   "cell_type": "code",
   "execution_count": null,
   "metadata": {},
   "outputs": [],
   "source": [
    "def runge_kutta4(dt, x, v, force_rule):\n",
    "\n",
    "    def vector_func(y):\n",
    "        return np.array([y[1], force_rule(y[0])])\n",
    "\n",
    "    # Base\n",
    "    u = np.array([x,v])\n",
    "\n",
    "    # Stage 1\n",
    "    k_1 = dt*vector_func(u)\n",
    "\n",
    "    # Stage 2\n",
    "    k_2 = dt * vector_func(u + 0.5*k_1)\n",
    "\n",
    "    # Stage 3\n",
    "    k_3 = dt * vector_func(u + 0.5*k_2)\n",
    "\n",
    "    # Stage 4\n",
    "    k_4 = dt * vector_func(u + k_3)\n",
    "\n",
    "    u_n = u + (1./6.)*(k_1 + 2.*k_2 + 2.* k_3 + k_4)\n",
    "    \n",
    "    return u_n[0], u_n[1]\n",
    "\n",
    "a.timestep_using(runge_kutta4)\n",
    "a.draw(ax)\n",
    "fig\n",
    "# fig.savefig('rk4_1.0.pdf')"
   ]
  },
  {
   "cell_type": "code",
   "execution_count": null,
   "metadata": {},
   "outputs": [],
   "source": [
    "fig2, ax2 = plt.subplots(1,1, figsize=(10, 10))\n",
    "i_x = [0.0]\n",
    "i_v = [1.0]\n",
    "dt = 1.0\n",
    "f_T = 700.0\n",
    "b = TimeStepper(i_x, i_v, dt, f_T)\n",
    "b.set_forcing_function('harmonic')\n",
    "b.draw(ax2)\n",
    "b.timestep_using(position_verlet)\n",
    "ax2.set_xlim([-1.5, 1.5])\n",
    "ax2.set_ylim([-1.5, 1.5])\n",
    "#b.draw(ax2)\n",
    "# fig2"
   ]
  },
  {
   "cell_type": "code",
   "execution_count": null,
   "metadata": {},
   "outputs": [],
   "source": [
    "cmap = sns.color_palette()\n",
    "verlet_color = cmap[0]\n",
    "rk_color = cmap[2]\n",
    "anim = b.animate(fig2, ax2, verlet_color)"
   ]
  },
  {
   "cell_type": "code",
   "execution_count": null,
   "metadata": {},
   "outputs": [],
   "source": [
    "HTML(anim.to_jshtml())"
   ]
  },
  {
   "cell_type": "code",
   "execution_count": null,
   "metadata": {},
   "outputs": [],
   "source": [
    "# anim.save('verlet.mp4', fps=30, \n",
    "#           extra_args=['-vcodec', 'h264', \n",
    "#                       '-pix_fmt', 'yuv420p'])"
   ]
  },
  {
   "cell_type": "code",
   "execution_count": null,
   "metadata": {},
   "outputs": [],
   "source": [
    "b.nsteps"
   ]
  },
  {
   "cell_type": "code",
   "execution_count": null,
   "metadata": {},
   "outputs": [],
   "source": [
    "def euler_fwd_new(dt, x, v, force_rule):\n",
    "    x_n = x + dt * force_rule(x)\n",
    "    v_n = v\n",
    "    return x_n, v_n"
   ]
  },
  {
   "cell_type": "code",
   "execution_count": null,
   "metadata": {},
   "outputs": [],
   "source": [
    "def rk4_new(dt, x, v, force_rule):\n",
    "    # Stage 1\n",
    "    k_1 = dt*force_rule(x)\n",
    "\n",
    "    # Stage 2\n",
    "    k_2 = dt * force_rule(x + 0.5*k_1)\n",
    "\n",
    "    # Stage 3\n",
    "    k_3 = dt * force_rule(x + 0.5*k_2)\n",
    "\n",
    "    # Stage 4\n",
    "    k_4 = dt * force_rule(x + k_3)\n",
    "    \n",
    "    x_n = x + (1./6.)*(k_1 + 2.*k_2 + 2.* k_3 + k_4)\n",
    "    v_n = v\n",
    "    \n",
    "    return x_n, v_n"
   ]
  },
  {
   "cell_type": "code",
   "execution_count": null,
   "metadata": {},
   "outputs": [],
   "source": [
    "i_x = [1.0]\n",
    "i_v = [0.0]\n",
    "f_T = 10.0\n",
    "\n",
    "func_list = [euler_fwd_new, rk4_new]\n",
    "dt_steps = np.arange(11, dtype=np.int16)\n",
    "errors_list = [[None for i in dt_steps] for func in func_list]\n",
    "\n",
    "for i_func, func in enumerate(func_list):\n",
    "    for i_step in dt_steps:\n",
    "        dt = (2.)**(-i_step)\n",
    "        b = TimeStepper(i_x, i_v, dt, f_T)\n",
    "        b.set_forcing_function('harmonic')\n",
    "        b.timestep_using(func)\n",
    "        errors_list[i_func][i_step] = b.error_norm()"
   ]
  },
  {
   "cell_type": "code",
   "execution_count": null,
   "metadata": {},
   "outputs": [],
   "source": [
    "fig, ax = plt.subplots(1,1, figsize=(10, 10))\n",
    "for i_func, func in enumerate(func_list):\n",
    "    ax.plot((2.)**(-dt_steps), errors_list[i_func], label=func.__name__)\n",
    "\n",
    "ax.plot((2.)**(-dt_steps), (2.)**(-dt_steps))  \n",
    "ax.plot((2.)**(-dt_steps), (2.)**(-4*dt_steps))  \n",
    "print((2.)**(-dt_steps))\n",
    "print(errors_list)\n",
    "ax.set_yscale('log')\n",
    "ax.set_xscale('log')\n",
    "ax.legend()"
   ]
  },
  {
   "cell_type": "code",
   "execution_count": null,
   "metadata": {},
   "outputs": [],
   "source": []
  }
 ],
 "metadata": {
  "kernelspec": {
   "display_name": "Python 3",
   "language": "python",
   "name": "python3"
  },
  "language_info": {
   "codemirror_mode": {
    "name": "ipython",
    "version": 3
   },
   "file_extension": ".py",
   "mimetype": "text/x-python",
   "name": "python",
   "nbconvert_exporter": "python",
   "pygments_lexer": "ipython3",
   "version": "3.7.2"
  }
 },
 "nbformat": 4,
 "nbformat_minor": 2
}
