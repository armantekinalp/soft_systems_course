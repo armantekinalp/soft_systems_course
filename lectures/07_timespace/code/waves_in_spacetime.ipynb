{
 "cells": [
  {
   "cell_type": "markdown",
   "metadata": {},
   "source": [
    "## Waves in space-time"
   ]
  },
  {
   "cell_type": "markdown",
   "metadata": {},
   "source": [
    "Standard imports"
   ]
  },
  {
   "cell_type": "code",
   "execution_count": null,
   "metadata": {},
   "outputs": [],
   "source": [
    "import numpy as np\n",
    "import matplotlib as mpl\n",
    "from matplotlib import pyplot as plt\n",
    "from matplotlib import cm\n",
    "import seaborn as sns\n",
    "from scipy.integrate import solve_ivp\n",
    "sns.set_context(\"talk\", font_scale=1.5, rc={\"lines.linewidth\": 2.5})\n",
    "sns.set_style(\"whitegrid\")\n",
    "from IPython.display import HTML\n",
    "from matplotlib import animation\n",
    "from bspline import snake_bspline\n",
    "%matplotlib inline\n",
    "\n",
    "# Don't tinker, or do\n",
    "#%matplotlib nbagg\n",
    "# from matplotlib import rcParams\n",
    "#rcParams['font.family']='sans-serif' \n",
    "#rcParams('font', serif='Helvetica Neue') \n",
    "# rcParams['text.usetex']= True \n",
    "#rcParams.update({'font.size': 22})"
   ]
  },
  {
   "cell_type": "markdown",
   "metadata": {},
   "source": [
    "Helper functions"
   ]
  },
  {
   "cell_type": "code",
   "execution_count": null,
   "metadata": {},
   "outputs": [],
   "source": [
    "class MplColorHelper:\n",
    "    \"\"\" Gives colors as rgba tuples from a matplotlib\n",
    "    colormap\n",
    "    \"\"\"\n",
    "    def __init__(self, cmap_name, start_val, stop_val):\n",
    "        self.cmap_name = cmap_name\n",
    "        self.cmap = plt.get_cmap(cmap_name)\n",
    "        self.norm = mpl.colors.Normalize(vmin=start_val, vmax=stop_val)\n",
    "        self.scalarMap = cm.ScalarMappable(norm=self.norm, cmap=self.cmap)\n",
    "\n",
    "    def get_rgb(self, val):\n",
    "        \"\"\" Get rgb from cmap\"\"\"\n",
    "        return self.scalarMap.to_rgba(val)"
   ]
  },
  {
   "cell_type": "code",
   "execution_count": null,
   "metadata": {},
   "outputs": [],
   "source": [
    "def animator(t_fig, t_renderer, t_data, t_color_by, t_cmap='RdBu'):\n",
    "    \"\"\" Access the animate class from matplotlib smartly\n",
    "    \"\"\"\n",
    "    # Define helper\n",
    "    COL = MplColorHelper(t_cmap, 0.0, 1.0)\n",
    "    \n",
    "    # Axis bounds\n",
    "    n_points = t_data.shape[1]\n",
    "    minmax_x = np.amax(np.abs(t_data[0, :, :]))\n",
    "    minmax_y = np.amax(np.abs(t_data[1, :, :]))\n",
    "\n",
    "    # Color bounds\n",
    "    coloring = t_color_by(t_data)\n",
    "    max_color = np.amax(coloring)\n",
    "    min_color = np.amin(coloring)\n",
    "    \n",
    "    def animate_in(i):\n",
    "        \"\"\"animation function. This is called sequentially\"\"\"\n",
    "        t_renderer.clear()\n",
    "\n",
    "#         # Enable this code block for multicolor representation\n",
    "#         loc_color = ( t_color_by(t_data[: , :, i]) - min_color)/(max_color - min_color)\n",
    "#         for seg in range(n_points-1):\n",
    "#             t_renderer.plot([t_data[0, seg, i], t_data[0, seg + 1, i]], [t_data[1, seg, i], t_data[1, seg + 1, i]], c=COL.get_rgb(loc_color[seg]))\n",
    "\n",
    "        t_renderer.plot(t_data[0, :, i], t_data[1, :, i])\n",
    "\n",
    "        # Plot centreline\n",
    "        t_renderer.plot([0.0, 1.0], [0.0, 0.0],'k--')\n",
    "\n",
    "        # More information\n",
    "        t_renderer.set_xlim(-0.05, minmax_x)\n",
    "        t_renderer.set_ylim(-minmax_y, minmax_y)\n",
    "        t_renderer.set_xlabel(r'$x$')\n",
    "        t_renderer.set_ylabel(r'$y$')\n",
    "        t_renderer.set_aspect('auto')\n",
    "\n",
    "    # call the animator. blit=True means only re-draw the parts that have changed.\n",
    "    anim = animation.FuncAnimation(t_fig, animate_in, frames=100, interval=5)\n",
    "\n",
    "    return anim"
   ]
  },
  {
   "cell_type": "markdown",
   "metadata": {},
   "source": [
    "# Wave representation of centerline kinematics "
   ]
  },
  {
   "cell_type": "markdown",
   "metadata": {},
   "source": [
    "Let's define the centerline of a slender body first."
   ]
  },
  {
   "cell_type": "code",
   "execution_count": null,
   "metadata": {},
   "outputs": [],
   "source": [
    "non_dim_cline = np.linspace(0.0, 1.0, 51, endpoint=True)\n",
    "non_dim_time = np.linspace(0.0, 1.0, 101, endpoint=True)"
   ]
  },
  {
   "cell_type": "markdown",
   "metadata": {},
   "source": [
    "### B-splines\n",
    "From __[Wikipedia](https://en.wikipedia.org/wiki/B-spline)__ : \"In the mathematical subfield of numerical analysis, a B-spline, or basis spline, is a spline function that has minimal support with respect to a given degree, smoothness, and domain partition\".\n",
    "\n",
    "More specifically, a spline function of order $n$ is a piecewise polynomial function of degree $n − 1$ in a variable $x$. The places where the pieces meet are known as knots. The key property of spline functions is that they and their derivatives may be continuous, depending on the multiplicities of the knots. B-splines of order $n$ are basis functions for spline functions of the same order defined over the same knots, meaning that all possible spline functions can be built from a linear combination of B-splines, and there is only one unique combination for each spline function. \n",
    "\n",
    "Let's visualize a (cubic) spline function below, using the helper code given for Project 2."
   ]
  },
  {
   "cell_type": "code",
   "execution_count": null,
   "metadata": {},
   "outputs": [],
   "source": [
    "# Play around with spline coefficients\n",
    "\n",
    "# spline_coeffs = np.array([1.0, 2.0, 1.0])\n",
    "# spline_coeffs = np.array([4.0, 0.01, 0.01])\n",
    "spline_coeffs = np.array([10, 2., 4.0])\n",
    "\n",
    "wave_spline, ctr_pts, ctr_coeffs = snake_bspline(spline_coeffs, keep_pts=True)\n",
    "fig, ax = plt.subplots(1,1, figsize=(10, 2))\n",
    "\n",
    "# Plot the spline\n",
    "ax.plot(non_dim_cline, wave_spline(non_dim_cline))\n",
    "\n",
    "# Plot the control points\n",
    "ax.plot(ctr_pts, ctr_coeffs, 'kx')"
   ]
  },
  {
   "cell_type": "markdown",
   "metadata": {},
   "source": [
    "# Standing wave\n",
    "A centerline actuation of the form $ y = A sin(kx)sin(\\omega t) $ resembles a \"standing wave\"—in the sense that it oscillates in time but its peak amplitude profile does not move in space (hence standing, not traveling). This is shown in red in the figure below.\n",
    "\n",
    "![standingwave](https://upload.wikimedia.org/wikipedia/commons/5/5d/Waventerference.gif \"standingwave\")"
   ]
  },
  {
   "cell_type": "code",
   "execution_count": null,
   "metadata": {},
   "outputs": [],
   "source": [
    "# Play around with wavenumbers\n",
    "sp_k = 1\n",
    "# sp_k = 3\n",
    "# sp_k = 2.5\n",
    "\n",
    "# Play around with prefactors\n",
    "# y_prefac = 0.01\n",
    "y_prefac = 0.1\n",
    "# y_prefac = 0.15\n",
    "\n",
    "# Functional form of standing waves \n",
    "y_t = np.sin(2.*np.pi*non_dim_time.reshape(-1, 1))\n",
    "y_s = np.sin(2.*np.pi*sp_k*non_dim_cline.reshape(1, -1))\n",
    "y = y_prefac*y_t*y_s\n",
    "\n",
    "x = 0.0*y_t*y_s"
   ]
  },
  {
   "cell_type": "code",
   "execution_count": null,
   "metadata": {},
   "outputs": [],
   "source": [
    "def run_standing_wave():\n",
    "    \"\"\" Function that generates standing wave solutions from\n",
    "    the differential equation dx**2 + dy**2 = ds**2, with ds**2 \n",
    "    , the length of the centerline, being conserved.\n",
    "    \"\"\"\n",
    "    for i in range(non_dim_time.shape[0]):\n",
    "        def dy_ds(s, y):\n",
    "            return y_prefac*2.*np.pi*sp_k*np.cos(2.*np.pi*sp_k*s)*y_t[i]\n",
    "\n",
    "        def dx_ds(s, y):\n",
    "            return np.sqrt(1.0 - dy_ds(s,y)**2)\n",
    "\n",
    "        x_s = solve_ivp(dx_ds, (0.0, 1.0), [0.0], t_eval = non_dim_cline)\n",
    "\n",
    "        # Gives (npoints, 1) back out\n",
    "        x[i] = x_s.y.reshape(-1, )\n",
    "\n",
    "    # In (time x shape x loc)\n",
    "    data_vec = np.dstack((x,y))\n",
    "\n",
    "    # In (loc x shape x time)\n",
    "    data_vec = data_vec.T\n",
    "    \n",
    "    return data_vec"
   ]
  },
  {
   "cell_type": "code",
   "execution_count": null,
   "metadata": {},
   "outputs": [],
   "source": [
    "# Runs the standing wave solution\n",
    "data_vec = run_standing_wave()\n",
    "\n",
    "# Define function to color by location\n",
    "def colorby(t_data):\n",
    "    return t_data[1]\n",
    "\n",
    "# Returns the animator\n",
    "fig, ax = plt.subplots(1,1, figsize=(10, 2))\n",
    "anim = animator(fig, ax, data_vec, colorby)\n",
    "HTML(anim.to_jshtml())"
   ]
  },
  {
   "cell_type": "markdown",
   "metadata": {},
   "source": [
    "# Traveling wave\n",
    "A centerline actuation of the form $ y = A sin(kx - \\omega t) $ resembles a \"traveling wave\"— where the wave \"travels\" at a speed of $ c = \\frac{\\omega}{k} $. This can be seen by fixing the argument of the $\\sin$ function and tracking such $x$ as a function of $t$. The blue and green curves shown in the animation below are traveling wave solutions.\n",
    "\n",
    "![standingwave](https://upload.wikimedia.org/wikipedia/commons/5/5d/Waventerference.gif \"standingwave\")\n",
    "\n",
    "Interestingly, a superposition of traveling wave solutions lead to the formation of a standing wave."
   ]
  },
  {
   "cell_type": "code",
   "execution_count": null,
   "metadata": {},
   "outputs": [],
   "source": [
    "# Masking function, for realism\n",
    "def func(s):\n",
    "#      return 1 + 0.0*s, 0.0 + 0.0*s\n",
    "#    return s, 1 + 0.0*s\n",
    "#    return s**2, 2*s\n",
    "     return wave_spline(s), (wave_spline.derivative())(s)\n",
    "\n",
    "# Play around with wavenumbers\n",
    "sp_k = 1\n",
    "#sp_k = 3\n",
    "#sp_k = 2.5\n",
    "\n",
    "# Play around with prefactors\n",
    "y_prefac = 0.01\n",
    "#y_prefac = 0.1\n",
    "#y_prefac = 0.15\n",
    "\n",
    "f, _ = func(non_dim_cline.reshape(1, -1))\n",
    "y = y_prefac * f * np.sin(2.*np.pi*(-non_dim_time.reshape(-1, 1) + sp_k*non_dim_cline.reshape(1, -1)))\n",
    "\n",
    "x = 0.0*y"
   ]
  },
  {
   "cell_type": "code",
   "execution_count": null,
   "metadata": {},
   "outputs": [],
   "source": [
    "def run_ramped_travelling_wave():\n",
    "    \"\"\" Function that generates traveling wave solutions from\n",
    "    the differential equation dx**2 + dy**2 = ds**2, with ds**2 \n",
    "    , the length of the centerline, being conserved.\n",
    "    \"\"\"    \n",
    "    for i in range(non_dim_time.shape[0]): \n",
    "        def dy_ds(s, y):\n",
    "            f, fdash = func(s)\n",
    "            return y_prefac*(2.*np.pi*sp_k*np.cos(2.*np.pi*(-non_dim_time[i] + sp_k*s))*f + fdash*np.sin(2.*np.pi*(non_dim_time[i] + sp_k*s)))\n",
    "\n",
    "        def dx_ds(s, y):\n",
    "            return np.sqrt(1.0 - dy_ds(s,y)**2)\n",
    "\n",
    "        x_s = solve_ivp(dx_ds, (0.0, 1.0), [0.0], t_eval = non_dim_cline)\n",
    "\n",
    "        # Gives (npoints, 1) back out\n",
    "        x[i] = x_s.y.reshape(-1, )\n",
    "\n",
    "    # In (time x shape x loc)\n",
    "    data_vec = np.dstack((x,y))\n",
    "\n",
    "    # In (loc x shape x time)\n",
    "    data_vec = data_vec.T\n",
    "    \n",
    "    return data_vec"
   ]
  },
  {
   "cell_type": "code",
   "execution_count": null,
   "metadata": {},
   "outputs": [],
   "source": [
    "data_vec = run_ramped_travelling_wave()\n",
    "\n",
    "def colorby(t_data):\n",
    "    return t_data[1]\n",
    "\n",
    "fig, ax = plt.subplots(1,1, figsize=(10, 2))\n",
    "anim = animator(fig, ax, data_vec, colorby)\n",
    "HTML(anim.to_jshtml())"
   ]
  },
  {
   "cell_type": "code",
   "execution_count": null,
   "metadata": {},
   "outputs": [],
   "source": [
    "# Code graveyard\n",
    "# # Save movies\n",
    "# anim.save('verlet.mp4', fps=30, \n",
    "#            extra_args=['-vcodec', 'h264', \n",
    "#                        '-pix_fmt', 'yuv420p'])\n",
    "\n",
    "# t_index = slice(1,50)\n",
    "# ax.clear()\n",
    "# ax.plot(data_vec[0, : , t_index], data_vec[1, : , t_index])\n",
    "# ax.set_aspect('auto')\n",
    "# fig"
   ]
  },
  {
   "cell_type": "code",
   "execution_count": null,
   "metadata": {},
   "outputs": [],
   "source": [
    "s = np.linspace(0, 1., 100)\n",
    "my_k = 5\n",
    "y = np.sin(2*np.pi*my_k*s)\n",
    "plt.plot(s,y)"
   ]
  },
  {
   "cell_type": "code",
   "execution_count": null,
   "metadata": {},
   "outputs": [],
   "source": []
  }
 ],
 "metadata": {
  "kernelspec": {
   "display_name": "Python 3",
   "language": "python",
   "name": "python3"
  },
  "language_info": {
   "codemirror_mode": {
    "name": "ipython",
    "version": 3
   },
   "file_extension": ".py",
   "mimetype": "text/x-python",
   "name": "python",
   "nbconvert_exporter": "python",
   "pygments_lexer": "ipython3",
   "version": "3.7.2"
  }
 },
 "nbformat": 4,
 "nbformat_minor": 2
}
