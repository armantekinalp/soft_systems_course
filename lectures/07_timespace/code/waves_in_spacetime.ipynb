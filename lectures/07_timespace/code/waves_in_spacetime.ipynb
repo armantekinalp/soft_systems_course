{
 "cells": [
  {
   "cell_type": "markdown",
   "metadata": {},
   "source": [
    "## Waves in space-time"
   ]
  },
  {
   "cell_type": "code",
   "execution_count": null,
   "metadata": {},
   "outputs": [],
   "source": [
    "import numpy as np\n",
    "import matplotlib as mpl\n",
    "from matplotlib import pyplot as plt\n",
    "from matplotlib import cm\n",
    "import seaborn as sns\n",
    "from scipy.integrate import solve_ivp\n",
    "sns.set_context(\"talk\", font_scale=1.5, rc={\"lines.linewidth\": 2.5})\n",
    "sns.set_style(\"whitegrid\")\n",
    "from IPython.display import HTML\n",
    "from matplotlib import animation\n",
    "from bspline import snake_bspline\n",
    "%matplotlib inline\n",
    "\n",
    "# Don't tinker, or do\n",
    "#%matplotlib nbagg\n",
    "# from matplotlib import rcParams\n",
    "#rcParams['font.family']='sans-serif' \n",
    "#rcParams('font', serif='Helvetica Neue') \n",
    "# rcParams['text.usetex']= True \n",
    "#rcParams.update({'font.size': 22})"
   ]
  },
  {
   "cell_type": "code",
   "execution_count": null,
   "metadata": {},
   "outputs": [],
   "source": [
    "class MplColorHelper:\n",
    "\n",
    "    def __init__(self, cmap_name, start_val, stop_val):\n",
    "        self.cmap_name = cmap_name\n",
    "        self.cmap = plt.get_cmap(cmap_name)\n",
    "        self.norm = mpl.colors.Normalize(vmin=start_val, vmax=stop_val)\n",
    "        self.scalarMap = cm.ScalarMappable(norm=self.norm, cmap=self.cmap)\n",
    "\n",
    "    def get_rgb(self, val):\n",
    "        return self.scalarMap.to_rgba(val)"
   ]
  },
  {
   "cell_type": "code",
   "execution_count": null,
   "metadata": {},
   "outputs": [],
   "source": [
    "def animator(t_fig, t_renderer, t_data, t_color_by, t_cmap='RdBu'):\n",
    "    \"\"\" Access to the animate class from matplotlib\n",
    "    \"\"\"\n",
    "    COL = MplColorHelper(t_cmap, 0.0, 1.0)\n",
    "    \n",
    "    n_points = t_data.shape[1]\n",
    "    minmax_x = np.amax(np.abs(t_data[0, :, :]))\n",
    "    minmax_y = np.amax(np.abs(t_data[1, :, :]))\n",
    "\n",
    "    coloring = t_color_by(t_data)\n",
    "    max_color = np.amax(coloring)\n",
    "    min_color = np.amin(coloring)\n",
    "    \n",
    "    # animation function. This is called sequentially\n",
    "    def animate_in(i):\n",
    "        t_renderer.clear()\n",
    "\n",
    "        loc_color = ( t_color_by(t_data[: , :, i]) - min_color)/(max_color - min_color)\n",
    "\n",
    "#         for seg in range(n_points-1):\n",
    "#             t_renderer.plot([t_data[0, seg, i], t_data[0, seg + 1, i]], [t_data[1, seg, i], t_data[1, seg + 1, i]], c=COL.get_rgb(loc_color[seg]))\n",
    "\n",
    "        t_renderer.plot(t_data[0, :, i], t_data[1, :, i])\n",
    "\n",
    "        # Plot centreline\n",
    "        t_renderer.plot([0.0, 1.0], [0.0, 0.0],'k--')\n",
    "\n",
    "        t_renderer.set_xlim(-0.05, minmax_x)\n",
    "        t_renderer.set_ylim(-minmax_y, minmax_y)\n",
    "        t_renderer.set_xlabel(r'$x$')\n",
    "        t_renderer.set_ylabel(r'$y$')\n",
    "        t_renderer.set_aspect('auto')\n",
    "\n",
    "    # call the animator. blit=True means only re-draw the parts that have changed.\n",
    "    anim = animation.FuncAnimation(t_fig, animate_in, frames=100, interval=5)\n",
    "\n",
    "    return anim"
   ]
  },
  {
   "cell_type": "code",
   "execution_count": null,
   "metadata": {},
   "outputs": [],
   "source": [
    "spline_coeffs = np.array([1.0, 2.0, 1.0])\n",
    "wave_spline = snake_bspline(spline_coeffs)"
   ]
  },
  {
   "cell_type": "markdown",
   "metadata": {},
   "source": [
    "# Kinematics"
   ]
  },
  {
   "cell_type": "code",
   "execution_count": null,
   "metadata": {},
   "outputs": [],
   "source": [
    "non_dim_cline = np.linspace(0.0, 1.0, 51, endpoint=True)\n",
    "non_dim_time = np.linspace(0.0, 1.0, 101, endpoint=True)"
   ]
  },
  {
   "cell_type": "markdown",
   "metadata": {},
   "source": [
    "# Standing wave"
   ]
  },
  {
   "cell_type": "code",
   "execution_count": null,
   "metadata": {},
   "outputs": [],
   "source": [
    "sp_k = 1\n",
    "#sp_k = 3\n",
    "#sp_k = 2.5\n",
    "\n",
    "#y_prefac = 0.01\n",
    "#y_prefac = 0.1\n",
    "y_prefac = 0.15\n",
    "\n",
    "y_t = np.sin(2.*np.pi*non_dim_time.reshape(-1, 1))\n",
    "y_s = np.sin(2.*np.pi*sp_k*non_dim_cline.reshape(1, -1))\n",
    "y = y_prefac*y_t*y_s\n",
    "\n",
    "x = 0.0*y_t*y_s"
   ]
  },
  {
   "cell_type": "code",
   "execution_count": null,
   "metadata": {},
   "outputs": [],
   "source": [
    "def run_standing_wave():\n",
    "    for i in range(non_dim_time.shape[0]):\n",
    "        def dy_ds(s, y):\n",
    "            return y_prefac*2.*np.pi*sp_k*np.cos(2.*np.pi*sp_k*s)*y_t[i]\n",
    "\n",
    "        def dx_ds(s, y):\n",
    "            return np.sqrt(1.0 - dy_ds(s,y)**2)\n",
    "\n",
    "        x_s = solve_ivp(dx_ds, (0.0, 1.0), [0.0], t_eval = non_dim_cline)\n",
    "\n",
    "        # Gives (npoints, 1) back out\n",
    "        x[i] = x_s.y.reshape(-1, )\n",
    "\n",
    "    # In (time x shape x loc)\n",
    "    data_vec = np.dstack((x,y))\n",
    "\n",
    "    # In (loc x shape x time)\n",
    "    data_vec = data_vec.T\n",
    "    \n",
    "    return data_vec"
   ]
  },
  {
   "cell_type": "code",
   "execution_count": null,
   "metadata": {},
   "outputs": [],
   "source": [
    "data_vec = run_standing_wave()\n",
    "\n",
    "def colorby(t_data):\n",
    "    return t_data[1]\n",
    "\n",
    "fig, ax = plt.subplots(1,1, figsize=(10, 2))\n",
    "anim = animator(fig, ax, data_vec, colorby)"
   ]
  },
  {
   "cell_type": "code",
   "execution_count": null,
   "metadata": {},
   "outputs": [],
   "source": [
    "# anim.save('verlet.mp4', fps=30, \n",
    "#            extra_args=['-vcodec', 'h264', \n",
    "#                        '-pix_fmt', 'yuv420p'])"
   ]
  },
  {
   "cell_type": "code",
   "execution_count": null,
   "metadata": {},
   "outputs": [],
   "source": [
    "t_index = slice(1,50)\n",
    "ax.clear()\n",
    "ax.plot(data_vec[0, : , t_index], data_vec[1, : , t_index])\n",
    "ax.set_aspect('auto')\n",
    "fig"
   ]
  },
  {
   "cell_type": "code",
   "execution_count": null,
   "metadata": {},
   "outputs": [],
   "source": [
    "HTML(anim.to_jshtml())"
   ]
  },
  {
   "cell_type": "code",
   "execution_count": null,
   "metadata": {},
   "outputs": [],
   "source": [
    "def func(s):\n",
    "    # return 1 + 0.0*s, 0.0 + 0.0*s\n",
    "    # return s, 1 + 0.0*s\n",
    "    # return s**2, 2*s\n",
    "    return wave_spline(s), (wave_spline.derivative())(s)\n",
    "\n",
    "# Change only for the case of (1., 0.0) of func\n",
    "sp_k = 1\n",
    "#sp_k = 3\n",
    "#sp_k = 2.5\n",
    "\n",
    "y_prefac = 0.01\n",
    "#y_prefac = 0.1\n",
    "#y_prefac = 0.15\n",
    "\n",
    "# y_t = np.sin(2.*np.pi*non_dim_time.reshape(-1, 1))\n",
    "# y_s = np.sin(2.*np.pi*sp_k*non_dim_cline.reshape(1, -1))\n",
    "f, _ = func(non_dim_cline.reshape(1, -1))\n",
    "y = y_prefac * f * np.sin(2.*np.pi*(-non_dim_time.reshape(-1, 1) + sp_k*non_dim_cline.reshape(1, -1)))\n",
    "\n",
    "x = 0.0*y_t*y_s"
   ]
  },
  {
   "cell_type": "code",
   "execution_count": null,
   "metadata": {},
   "outputs": [],
   "source": [
    "def run_ramped_travelling_wave():\n",
    "    for i in range(non_dim_time.shape[0]):\n",
    "        \n",
    "        def dy_ds(s, y):\n",
    "            f, fdash = func(s)\n",
    "            return y_prefac*(2.*np.pi*sp_k*np.cos(2.*np.pi*(-non_dim_time[i] + sp_k*s))*f + fdash*np.sin(2.*np.pi*(non_dim_time[i] + sp_k*s)))\n",
    "\n",
    "        def dx_ds(s, y):\n",
    "            return np.sqrt(1.0 - dy_ds(s,y)**2)\n",
    "\n",
    "        x_s = solve_ivp(dx_ds, (0.0, 1.0), [0.0], t_eval = non_dim_cline)\n",
    "\n",
    "        # Gives (npoints, 1) back out\n",
    "        x[i] = x_s.y.reshape(-1, )\n",
    "\n",
    "    # In (time x shape x loc)\n",
    "    data_vec = np.dstack((x,y))\n",
    "\n",
    "    # In (loc x shape x time)\n",
    "    data_vec = data_vec.T\n",
    "    \n",
    "    return data_vec"
   ]
  },
  {
   "cell_type": "code",
   "execution_count": null,
   "metadata": {},
   "outputs": [],
   "source": [
    "data_vec = run_ramped_travelling_wave()\n",
    "\n",
    "def colorby(t_data):\n",
    "    return t_data[1]\n",
    "\n",
    "fig, ax = plt.subplots(1,1, figsize=(10, 2))\n",
    "anim = animator(fig, ax, data_vec, colorby)\n",
    "HTML(anim.to_jshtml())"
   ]
  },
  {
   "cell_type": "code",
   "execution_count": null,
   "metadata": {},
   "outputs": [],
   "source": []
  }
 ],
 "metadata": {
  "kernelspec": {
   "display_name": "Python 3",
   "language": "python",
   "name": "python3"
  },
  "language_info": {
   "codemirror_mode": {
    "name": "ipython",
    "version": 3
   },
   "file_extension": ".py",
   "mimetype": "text/x-python",
   "name": "python",
   "nbconvert_exporter": "python",
   "pygments_lexer": "ipython3",
   "version": "3.7.2"
  }
 },
 "nbformat": 4,
 "nbformat_minor": 2
}
