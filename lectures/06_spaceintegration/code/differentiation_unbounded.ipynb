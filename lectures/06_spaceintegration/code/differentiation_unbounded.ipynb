{
 "cells": [
  {
   "cell_type": "markdown",
   "metadata": {},
   "source": [
    "# Differentiation is not bounded "
   ]
  },
  {
   "cell_type": "code",
   "execution_count": null,
   "metadata": {},
   "outputs": [],
   "source": [
    "import numpy as np\n",
    "import matplotlib as mpl\n",
    "from matplotlib import pyplot as plt\n",
    "from matplotlib import cm\n",
    "import seaborn as sns\n",
    "sns.set_context(\"talk\", font_scale=1.5, rc={\"lines.linewidth\": 2.5})\n",
    "sns.set_style(\"whitegrid\")\n",
    "%matplotlib inline"
   ]
  },
  {
   "cell_type": "code",
   "execution_count": null,
   "metadata": {},
   "outputs": [],
   "source": [
    "x = np.linspace(0.0, 1.0, 100, endpoint=False)"
   ]
  },
  {
   "cell_type": "markdown",
   "metadata": {},
   "source": [
    "Here's a pretty simple function. We take derivatives of this function (repeatedly):"
   ]
  },
  {
   "cell_type": "code",
   "execution_count": null,
   "metadata": {},
   "outputs": [],
   "source": [
    "fx = np.exp(-(x-0.5)**2/0.1**2)\n",
    "# fx = np.exp(-(x-0.5)**2/0.05**2)"
   ]
  },
  {
   "cell_type": "markdown",
   "metadata": {},
   "source": [
    "Quick hack for periodicity"
   ]
  },
  {
   "cell_type": "code",
   "execution_count": null,
   "metadata": {},
   "outputs": [],
   "source": [
    "def prolong(t_x, t_f):\n",
    "    return (np.hstack((t_x, [1.0])), np.hstack((t_f, t_f[0])))"
   ]
  },
  {
   "cell_type": "code",
   "execution_count": null,
   "metadata": {},
   "outputs": [],
   "source": [
    "fig, ax = plt.subplots(1,1, figsize=(10, 10))\n",
    "plot_x, plot_f = prolong(x,fx)\n",
    "ax.plot(plot_x, plot_f)\n",
    "ax.set_xlabel(r'$x$')\n",
    "ax.set_ylabel(r'$f(x)$')"
   ]
  },
  {
   "cell_type": "code",
   "execution_count": null,
   "metadata": {},
   "outputs": [],
   "source": [
    "def diff(t_f):\n",
    "    return (np.roll(t_f, -1) - np.roll(t_f, 1))*100.    \n",
    "\n",
    "df_dx = diff(fx)\n",
    "d2f_dx2 = diff(df_dx)\n",
    "d3f_dx3 = diff(d2f_dx2)\n",
    "d4f_dx4 = diff(d3f_dx3)"
   ]
  },
  {
   "cell_type": "code",
   "execution_count": null,
   "metadata": {},
   "outputs": [],
   "source": [
    "fig, ax = plt.subplots(1,1, figsize=(10, 10))\n",
    "# plot_x, plot_f = prolong(x,df_dx)\n",
    "def myplot(t_x, t_f):\n",
    "    ax.plot(t_x, t_f, label=t_f.__name__)\n",
    "ax.plot(x, fx, label=r'$f(x)$')\n",
    "ax.plot(x, df_dx, label=r'$\\dfrac{df}{dx}$')\n",
    "ax.plot(x, d2f_dx2, label=r'$\\dfrac{d^2f}{dx^2}$')\n",
    "ax.plot(x, d3f_dx3, label=r'$\\dfrac{d^3f}{dx^3}$')\n",
    "ax.set_xlabel(r'$x$')\n",
    "ax.set_ylabel(r'$f(x)$')\n",
    "ax.legend()"
   ]
  },
  {
   "cell_type": "code",
   "execution_count": null,
   "metadata": {},
   "outputs": [],
   "source": []
  }
 ],
 "metadata": {
  "kernelspec": {
   "display_name": "Python 3",
   "language": "python",
   "name": "python3"
  },
  "language_info": {
   "codemirror_mode": {
    "name": "ipython",
    "version": 3
   },
   "file_extension": ".py",
   "mimetype": "text/x-python",
   "name": "python",
   "nbconvert_exporter": "python",
   "pygments_lexer": "ipython3",
   "version": "3.7.7"
  }
 },
 "nbformat": 4,
 "nbformat_minor": 2
}
