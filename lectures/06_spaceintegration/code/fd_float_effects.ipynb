{
 "cells": [
  {
   "cell_type": "markdown",
   "metadata": {},
   "source": [
    "# Floating-point-vs-Finite-Differences"
   ]
  },
  {
   "cell_type": "code",
   "execution_count": null,
   "metadata": {},
   "outputs": [],
   "source": [
    "import numpy as np\n",
    "import numpy.linalg as la\n",
    "import matplotlib.pyplot as plt\n",
    "import seaborn as sns\n",
    "sns.set_context(\"talk\", font_scale=1.5, rc={\"lines.linewidth\": 2.5})\n",
    "sns.set_style(\"whitegrid\")\n",
    "import matplotlib.pyplot as plt\n",
    "%matplotlib inline"
   ]
  },
  {
   "cell_type": "markdown",
   "metadata": {},
   "source": [
    "Define a function and its derivative:"
   ]
  },
  {
   "cell_type": "code",
   "execution_count": null,
   "metadata": {},
   "outputs": [],
   "source": [
    "float_type = np.float32\n",
    "c = 20*2*np.pi\n",
    "\n",
    "def f(x):\n",
    "    return np.sin(c*x)\n",
    "\n",
    "def df(x):\n",
    "    return c*np.cos(c*x)\n",
    "\n",
    "n = 2000\n",
    "\n",
    "## Use floating point to see clearly the\n",
    "## precision results\n",
    "\n",
    "x = np.linspace(0, 1, n, endpoint=False).astype(float_type)\n",
    "\n",
    "fig, ax = plt.subplots(1,1, figsize=(10, 10))\n",
    "ax.plot(x, f(x))\n",
    "ax.grid(True)"
   ]
  },
  {
   "cell_type": "markdown",
   "metadata": {},
   "source": [
    "\n",
    "<p>Now compute the relative $l^\\infty$ norm of the error in the finite differences, for a bunch of mesh sizes:</p>\n"
   ]
  },
  {
   "cell_type": "code",
   "execution_count": null,
   "metadata": {},
   "outputs": [],
   "source": [
    "ax.clear()\n",
    "h_values = []\n",
    "err_values = []\n",
    "\n",
    "for n_exp in range(5, 24):\n",
    "    n = 2**n_exp\n",
    "    h = (1/n)\n",
    "\n",
    "    x = np.linspace(0, 1, n, endpoint=False).astype(float_type)\n",
    "\n",
    "    fx = f(x)\n",
    "    dfx = df(x)\n",
    "\n",
    "    dfx_num = (np.roll(fx, -1) - np.roll(fx, 1)) / (2*h)\n",
    "\n",
    "    # err = np.max(np.abs((dfx - dfx_num))) / np.max(np.abs(fx))\n",
    "    err = np.max(np.abs((dfx - dfx_num)))\n",
    "    \n",
    "    print(h, err)\n",
    "\n",
    "    h_values.append(h)\n",
    "    err_values.append(err)\n",
    "\n",
    "ax.set_title(r\"Single precision FD error on $\\sin(20\\cdot 2\\pi)$\")\n",
    "ax.set_xlabel(r\"$h$\")\n",
    "ax.set_ylabel(r\"Rel. Error\")\n",
    "ax.loglog(h_values, err_values)\n",
    "fig"
   ]
  },
  {
   "cell_type": "code",
   "execution_count": null,
   "metadata": {},
   "outputs": [],
   "source": []
  }
 ],
 "metadata": {
  "kernelspec": {
   "display_name": "Python 3",
   "language": "python",
   "name": "python3"
  },
  "language_info": {
   "codemirror_mode": {
    "name": "ipython",
    "version": 3
   },
   "file_extension": ".py",
   "mimetype": "text/x-python",
   "name": "python",
   "nbconvert_exporter": "python",
   "pygments_lexer": "ipython3",
   "version": "3.7.2"
  }
 },
 "nbformat": 4,
 "nbformat_minor": 1
}
