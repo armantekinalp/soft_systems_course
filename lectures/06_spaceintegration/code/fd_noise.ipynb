{
 "cells": [
  {
   "cell_type": "markdown",
   "metadata": {},
   "source": [
    "# Finite differences vs Noise"
   ]
  },
  {
   "cell_type": "code",
   "execution_count": null,
   "metadata": {},
   "outputs": [],
   "source": [
    "import numpy as np\n",
    "import numpy.linalg as la\n",
    "import matplotlib.pyplot as plt\n",
    "import seaborn as sns\n",
    "sns.set_context(\"talk\", font_scale=1.5, rc={\"lines.linewidth\": 2.5})\n",
    "sns.set_style(\"whitegrid\")\n",
    "%matplotlib inline"
   ]
  },
  {
   "cell_type": "markdown",
   "metadata": {},
   "source": [
    "Here's a pretty simple function and its derivative:"
   ]
  },
  {
   "cell_type": "code",
   "execution_count": null,
   "metadata": {},
   "outputs": [],
   "source": [
    "def f(x):\n",
    "    return np.sin(2.*x)\n",
    "def df(x):\n",
    "    return 2.*np.cos(2.*x)"
   ]
  },
  {
   "cell_type": "code",
   "execution_count": null,
   "metadata": {},
   "outputs": [],
   "source": [
    "plot_x = np.linspace(-1., 1., 200)\n",
    "\n",
    "fig, ax = plt.subplots(1,1, figsize=(10, 10))\n",
    "ax.plot(plot_x, f(plot_x), label=\"f\")\n",
    "ax.plot(plot_x, df(plot_x), label=\"df/dx\")\n",
    "ax.grid(True)\n",
    "ax.legend()"
   ]
  },
  {
   "cell_type": "markdown",
   "metadata": {},
   "source": [
    "Now what happens to our numerical differentiation if **our function values have a slight amount of error**?\n"
   ]
  },
  {
   "cell_type": "code",
   "execution_count": null,
   "metadata": {},
   "outputs": [],
   "source": [
    "# set up grid\n",
    "n = 10\n",
    "x = np.linspace(-1, 1, n)\n",
    "h = x[1] - x[0]\n",
    "x_df_result = x[1:-1] # chop off first, last point\n",
    "\n",
    "# evaluate f, perturb data, finite differences of f\n",
    "f_x = f(x)\n",
    "\n",
    "f_x += 0.025*np.random.randn(n)\n",
    "\n",
    "df_num_x = (f_x[2:] - f_x[:-2])/(2*h)\n",
    "\n",
    "# plot\n",
    "ax.clear()\n",
    "ax.plot(x, f_x, \"o-\", label=\"f\")\n",
    "ax.plot(plot_x, df(plot_x), label=\"df/dx\")\n",
    "ax.plot(x_df_result, df_num_x, label=\"df/dx num\")\n",
    "ax.grid(True)\n",
    "ax.legend(loc=\"best\")\n",
    "fig"
   ]
  },
  {
   "cell_type": "markdown",
   "metadata": {},
   "source": [
    "- Now what happens if you set <code>n = 100</code> instead of <code>n = 10</code>?</li>\n",
    "- What's the fix then?\n",
    "\n",
    "Interpolate, then differentiate!"
   ]
  }
 ],
 "metadata": {
  "kernelspec": {
   "display_name": "Python 3",
   "language": "python",
   "name": "python3"
  },
  "language_info": {
   "codemirror_mode": {
    "name": "ipython",
    "version": 3
   },
   "file_extension": ".py",
   "mimetype": "text/x-python",
   "name": "python",
   "nbconvert_exporter": "python",
   "pygments_lexer": "ipython3",
   "version": "3.7.2"
  }
 },
 "nbformat": 4,
 "nbformat_minor": 1
}
