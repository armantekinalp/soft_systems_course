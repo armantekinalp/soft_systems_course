{
 "cells": [
  {
   "cell_type": "markdown",
   "metadata": {},
   "source": [
    "## Let's look at two ways of creating a list from an existing list"
   ]
  },
  {
   "cell_type": "markdown",
   "metadata": {},
   "source": [
    "Let's first create a random list upon which we further process, called `A` (with element $a_i$)"
   ]
  },
  {
   "cell_type": "code",
   "execution_count": null,
   "metadata": {},
   "outputs": [],
   "source": [
    "from math import sin, pi\n",
    "import random\n",
    "\n",
    "# We operate on a list of 1000 entries\n",
    "N = 500\n",
    "\n",
    "# Generate one dimensional list of N numbers\n",
    "A = [random.uniform(1.5, 1.9) for _ in range(N)]\n",
    "len(A)"
   ]
  },
  {
   "cell_type": "markdown",
   "metadata": {},
   "source": [
    "Generate a new list from scratch, doing the operations $ b_i = a^2_1 + \\sin\\left(\\frac{a_i \\cdot \\pi}{2}\\right)$ to create a list `B`"
   ]
  },
  {
   "cell_type": "code",
   "execution_count": null,
   "metadata": {},
   "outputs": [],
   "source": [
    "def list_from_scratch(old_list):\n",
    "    \"\"\" Generates new list from scratch\n",
    "    \"\"\"\n",
    "    new_list = []\n",
    "    for elem in old_list:\n",
    "        new_list.append(elem ** 2 + 24.0 * (elem * pi * 0.5))\n",
    "        \n",
    "    return new_list"
   ]
  },
  {
   "cell_type": "markdown",
   "metadata": {},
   "source": [
    "Wait. That doesn't look fair. Shouldn't we preallocate the list and just refer the indices?"
   ]
  },
  {
   "cell_type": "code",
   "execution_count": null,
   "metadata": {},
   "outputs": [],
   "source": [
    "def preallocated_list_from_scratch(old_list):\n",
    "    \"\"\" Generates new list from scratch, but be\n",
    "    merciful and preallocate it\n",
    "    \"\"\"\n",
    "    new_list = [None] * len(old_list)\n",
    "    for idx, elem in enumerate(old_list):\n",
    "        new_list[idx] = elem ** 2 + 24.0 * (elem * pi * 0.5)\n",
    "        \n",
    "    return new_list"
   ]
  },
  {
   "cell_type": "markdown",
   "metadata": {},
   "source": [
    "We now do the same thing but with list comprehension"
   ]
  },
  {
   "cell_type": "code",
   "execution_count": null,
   "metadata": {},
   "outputs": [],
   "source": [
    "def list_from_comprehension(old_list):\n",
    "    \"\"\" Generates new list using comprehension\n",
    "    \"\"\"\n",
    "    return [elem ** 2 + 24.0 * (elem * pi * 0.5) for elem in old_list]"
   ]
  },
  {
   "cell_type": "markdown",
   "metadata": {},
   "source": [
    "## Now for the interesting part. Let's time it!"
   ]
  },
  {
   "cell_type": "code",
   "execution_count": null,
   "metadata": {},
   "outputs": [],
   "source": [
    "%timeit list_from_scratch(A)"
   ]
  },
  {
   "cell_type": "code",
   "execution_count": null,
   "metadata": {},
   "outputs": [],
   "source": [
    "%timeit preallocated_list_from_scratch(A)"
   ]
  },
  {
   "cell_type": "code",
   "execution_count": null,
   "metadata": {},
   "outputs": [],
   "source": [
    "%timeit list_from_comprehension(A)"
   ]
  },
  {
   "cell_type": "markdown",
   "metadata": {},
   "source": [
    "## Vary problem size and see what happens?"
   ]
  },
  {
   "cell_type": "code",
   "execution_count": null,
   "metadata": {},
   "outputs": [],
   "source": [
    "import pylab as plt\n",
    "import seaborn as sns\n",
    "sns.set_context(\"talk\", font_scale=1.5, rc={\"lines.linewidth\": 2.5})\n",
    "from timeit import default_timer\n",
    "\n",
    "scratch_time = []\n",
    "prealloc_time = []\n",
    "compr_time = []\n",
    "\n",
    "for N in range(0, 26):\n",
    "    A = [random.uniform(1.5, 1.9) for _ in range(2**N)]    \n",
    "\n",
    "    # Very bad timing experiment as I conduct only one\n",
    "\n",
    "    # Count scratch time\n",
    "    time = default_timer()\n",
    "    list_from_scratch(A)\n",
    "    time = default_timer() - time\n",
    "    scratch_time.append(time)\n",
    "\n",
    "    # Count prealloca time\n",
    "    time = default_timer()\n",
    "    preallocated_list_from_scratch(A)\n",
    "    time = default_timer() - time\n",
    "    prealloc_time.append(time)\n",
    "\n",
    "    # Count compregension time\n",
    "    time = default_timer()\n",
    "    list_from_comprehension(A)\n",
    "    time = default_timer() - time\n",
    "    compr_time.append(time)"
   ]
  },
  {
   "cell_type": "markdown",
   "metadata": {},
   "source": [
    "Plot the data using matplotlib...(we'll get to this very soon)"
   ]
  },
  {
   "cell_type": "code",
   "execution_count": null,
   "metadata": {},
   "outputs": [],
   "source": [
    "%matplotlib inline\n",
    "plt.figure(figsize=(12,12))\n",
    "plt.plot(scratch_time,'-o', lw=3, ms=20, label='from scratch')\n",
    "plt.plot(prealloc_time,'-o', lw=3, ms=20, label='preallocate')\n",
    "plt.plot(compr_time,'-o', lw=3, ms=20, label='comprehension')\n",
    "\n",
    "ax = plt.gca()\n",
    "\n",
    "ax.set_xlabel(r'$\\log_2(n)$')\n",
    "ax.set_ylabel('time (in s)')\n",
    "plt.legend()"
   ]
  },
  {
   "cell_type": "markdown",
   "metadata": {},
   "source": [
    "## For people familiar with `Python`, you can see the disassembly"
   ]
  },
  {
   "cell_type": "code",
   "execution_count": null,
   "metadata": {},
   "outputs": [],
   "source": [
    "import dis\n",
    "\n",
    "dis.dis(list_from_scratch)"
   ]
  },
  {
   "cell_type": "code",
   "execution_count": null,
   "metadata": {},
   "outputs": [],
   "source": [
    "dis.dis(preallocated_list_from_scratch)"
   ]
  },
  {
   "cell_type": "code",
   "execution_count": null,
   "metadata": {},
   "outputs": [],
   "source": [
    "dis.dis(list_from_comprehension)"
   ]
  }
 ],
 "metadata": {
  "kernelspec": {
   "display_name": "Python 3",
   "language": "python",
   "name": "python3"
  },
  "language_info": {
   "codemirror_mode": {
    "name": "ipython",
    "version": 3
   },
   "file_extension": ".py",
   "mimetype": "text/x-python",
   "name": "python",
   "nbconvert_exporter": "python",
   "pygments_lexer": "ipython3",
   "version": "3.7.2"
  }
 },
 "nbformat": 4,
 "nbformat_minor": 2
}
