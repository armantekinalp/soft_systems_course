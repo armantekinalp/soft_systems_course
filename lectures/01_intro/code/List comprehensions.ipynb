{
 "cells": [
  {
   "cell_type": "markdown",
   "metadata": {},
   "source": [
    "## Let's look at two ways of creating a list from an existing list"
   ]
  },
  {
   "cell_type": "markdown",
   "metadata": {},
   "source": [
    "Let's first create a random list upon which we further process, called `A` (with element $a_i$)"
   ]
  },
  {
   "cell_type": "code",
   "execution_count": 1,
   "metadata": {},
   "outputs": [
    {
     "data": {
      "text/plain": [
       "500"
      ]
     },
     "execution_count": 1,
     "metadata": {},
     "output_type": "execute_result"
    }
   ],
   "source": [
    "from math import sin, pi\n",
    "import random\n",
    "\n",
    "# We operate on a list of 1000 entries\n",
    "N = 500\n",
    "\n",
    "# Generate one dimensional list of N numbers\n",
    "A = [random.uniform(1.5, 1.9) for _ in range(N)]\n",
    "len(A)"
   ]
  },
  {
   "cell_type": "markdown",
   "metadata": {},
   "source": [
    "Generate a new list from scratch, doing the operations $ b_i = a^2_1 + \\sin\\left(\\frac{a_i \\cdot \\pi}{2}\\right)$ to create a list `B`"
   ]
  },
  {
   "cell_type": "code",
   "execution_count": 3,
   "metadata": {},
   "outputs": [],
   "source": [
    "def list_from_scratch(old_list):\n",
    "    \"\"\" Generates new list from scratch\n",
    "    \"\"\"\n",
    "    new_list = []\n",
    "    for elem in old_list:\n",
    "        new_list.append(elem ** 2 + 24.0 * (elem * pi * 0.5))\n",
    "        \n",
    "    return new_list"
   ]
  },
  {
   "cell_type": "markdown",
   "metadata": {},
   "source": [
    "Wait. That doesn't look fair. Shouldn't we preallocate the list and just refer the indices?"
   ]
  },
  {
   "cell_type": "code",
   "execution_count": 4,
   "metadata": {},
   "outputs": [],
   "source": [
    "def preallocated_list_from_scratch(old_list):\n",
    "    \"\"\" Generates new list from scratch, but be\n",
    "    merciful and preallocate it\n",
    "    \"\"\"\n",
    "    new_list = [None] * len(old_list)\n",
    "    for idx, elem in enumerate(old_list):\n",
    "        new_list[idx] = elem ** 2 + 24.0 * (elem * pi * 0.5)\n",
    "        \n",
    "    return new_list"
   ]
  },
  {
   "cell_type": "markdown",
   "metadata": {},
   "source": [
    "We now do the same thing but with list comprehension"
   ]
  },
  {
   "cell_type": "code",
   "execution_count": 5,
   "metadata": {},
   "outputs": [],
   "source": [
    "def list_from_comprehension(old_list):\n",
    "    \"\"\" Generates new list using comprehension\n",
    "    \"\"\"\n",
    "    return [elem ** 2 + 24.0 * (elem * pi * 0.5) for elem in old_list]"
   ]
  },
  {
   "cell_type": "markdown",
   "metadata": {},
   "source": [
    "## Now for the interesting part. Let's time it!"
   ]
  },
  {
   "cell_type": "code",
   "execution_count": 6,
   "metadata": {},
   "outputs": [
    {
     "name": "stdout",
     "output_type": "stream",
     "text": [
      "129 µs ± 6.67 µs per loop (mean ± std. dev. of 7 runs, 10000 loops each)\n"
     ]
    }
   ],
   "source": [
    "%timeit list_from_scratch(A)"
   ]
  },
  {
   "cell_type": "code",
   "execution_count": 7,
   "metadata": {},
   "outputs": [
    {
     "name": "stdout",
     "output_type": "stream",
     "text": [
      "121 µs ± 4.25 µs per loop (mean ± std. dev. of 7 runs, 10000 loops each)\n"
     ]
    }
   ],
   "source": [
    "%timeit preallocated_list_from_scratch(A)"
   ]
  },
  {
   "cell_type": "code",
   "execution_count": 8,
   "metadata": {},
   "outputs": [
    {
     "name": "stdout",
     "output_type": "stream",
     "text": [
      "98.8 µs ± 4.58 µs per loop (mean ± std. dev. of 7 runs, 10000 loops each)\n"
     ]
    }
   ],
   "source": [
    "%timeit list_from_comprehension(A)"
   ]
  },
  {
   "cell_type": "markdown",
   "metadata": {},
   "source": [
    "## Vary problem size and see what happens?"
   ]
  },
  {
   "cell_type": "code",
   "execution_count": 68,
   "metadata": {},
   "outputs": [],
   "source": [
    "import pylab as plt\n",
    "import seaborn as sns\n",
    "sns.set_context(\"talk\", font_scale=1.5, rc={\"lines.linewidth\": 2.5})\n",
    "from timeit import default_timer\n",
    "\n",
    "scratch_time = []\n",
    "prealloc_time = []\n",
    "compr_time = []\n",
    "\n",
    "for N in range(0, 26):\n",
    "    A = [random.uniform(1.5, 1.9) for _ in range(2**N)]    \n",
    "\n",
    "    # Very bad timing experiment as I conduct only one\n",
    "\n",
    "    # Count scratch time\n",
    "    time = default_timer()\n",
    "    list_from_scratch(A)\n",
    "    time = default_timer() - time\n",
    "    scratch_time.append(time)\n",
    "\n",
    "    # Count prealloca time\n",
    "    time = default_timer()\n",
    "    preallocated_list_from_scratch(A)\n",
    "    time = default_timer() - time\n",
    "    prealloc_time.append(time)\n",
    "\n",
    "    # Count compregension time\n",
    "    time = default_timer()\n",
    "    list_from_comprehension(A)\n",
    "    time = default_timer() - time\n",
    "    compr_time.append(time)"
   ]
  },
  {
   "cell_type": "markdown",
   "metadata": {},
   "source": [
    "Plot the data using matplotlib...(we'll get to this very soon)"
   ]
  },
  {
   "cell_type": "code",
   "execution_count": 72,
   "metadata": {},
   "outputs": [
    {
     "data": {
      "text/plain": [
       "<matplotlib.legend.Legend at 0x1178decf8>"
      ]
     },
     "execution_count": 72,
     "metadata": {},
     "output_type": "execute_result"
    },
    {
     "data": {
      "image/png": "[encoded data removed]",
      "text/plain": [
       "<Figure size 864x864 with 1 Axes>"
      ]
     },
     "metadata": {
      "needs_background": "light"
     },
     "output_type": "display_data"
    }
   ],
   "source": [
    "%matplotlib inline\n",
    "plt.figure(figsize=(12,12))\n",
    "plt.plot(scratch_time,'-o', lw=3, ms=20, label='from scratch')\n",
    "plt.plot(prealloc_time,'-o', lw=3, ms=20, label='preallocate')\n",
    "plt.plot(compr_time,'-o', lw=3, ms=20, label='comprehension')\n",
    "\n",
    "ax = plt.gca()\n",
    "\n",
    "ax.set_xlabel(r'$\\log_2(n)$')\n",
    "ax.set_ylabel('time (in s)')\n",
    "plt.legend()"
   ]
  },
  {
   "cell_type": "markdown",
   "metadata": {},
   "source": [
    "## For people familiar with `Python`, you can see the disassembly"
   ]
  },
  {
   "cell_type": "code",
   "execution_count": 73,
   "metadata": {},
   "outputs": [
    {
     "name": "stdout",
     "output_type": "stream",
     "text": [
      "  4           0 BUILD_LIST               0\n",
      "              2 STORE_FAST               1 (new_list)\n",
      "\n",
      "  5           4 SETUP_LOOP              42 (to 48)\n",
      "              6 LOAD_FAST                0 (old_list)\n",
      "              8 GET_ITER\n",
      "        >>   10 FOR_ITER                34 (to 46)\n",
      "             12 STORE_FAST               2 (elem)\n",
      "\n",
      "  6          14 LOAD_FAST                1 (new_list)\n",
      "             16 LOAD_METHOD              0 (append)\n",
      "             18 LOAD_FAST                2 (elem)\n",
      "             20 LOAD_CONST               1 (2)\n",
      "             22 BINARY_POWER\n",
      "             24 LOAD_CONST               2 (24.0)\n",
      "             26 LOAD_FAST                2 (elem)\n",
      "             28 LOAD_GLOBAL              1 (pi)\n",
      "             30 BINARY_MULTIPLY\n",
      "             32 LOAD_CONST               3 (0.5)\n",
      "             34 BINARY_MULTIPLY\n",
      "             36 BINARY_MULTIPLY\n",
      "             38 BINARY_ADD\n",
      "             40 CALL_METHOD              1\n",
      "             42 POP_TOP\n",
      "             44 JUMP_ABSOLUTE           10\n",
      "        >>   46 POP_BLOCK\n",
      "\n",
      "  8     >>   48 LOAD_FAST                1 (new_list)\n",
      "             50 RETURN_VALUE\n"
     ]
    }
   ],
   "source": [
    "import dis\n",
    "\n",
    "dis.dis(list_from_scratch)"
   ]
  },
  {
   "cell_type": "code",
   "execution_count": 74,
   "metadata": {},
   "outputs": [
    {
     "name": "stdout",
     "output_type": "stream",
     "text": [
      "  5           0 LOAD_CONST               1 (None)\n",
      "              2 BUILD_LIST               1\n",
      "              4 LOAD_GLOBAL              0 (len)\n",
      "              6 LOAD_FAST                0 (old_list)\n",
      "              8 CALL_FUNCTION            1\n",
      "             10 BINARY_MULTIPLY\n",
      "             12 STORE_FAST               1 (new_list)\n",
      "\n",
      "  6          14 SETUP_LOOP              48 (to 64)\n",
      "             16 LOAD_GLOBAL              1 (enumerate)\n",
      "             18 LOAD_FAST                0 (old_list)\n",
      "             20 CALL_FUNCTION            1\n",
      "             22 GET_ITER\n",
      "        >>   24 FOR_ITER                36 (to 62)\n",
      "             26 UNPACK_SEQUENCE          2\n",
      "             28 STORE_FAST               2 (idx)\n",
      "             30 STORE_FAST               3 (elem)\n",
      "\n",
      "  7          32 LOAD_FAST                3 (elem)\n",
      "             34 LOAD_CONST               2 (2)\n",
      "             36 BINARY_POWER\n",
      "             38 LOAD_CONST               3 (24.0)\n",
      "             40 LOAD_FAST                3 (elem)\n",
      "             42 LOAD_GLOBAL              2 (pi)\n",
      "             44 BINARY_MULTIPLY\n",
      "             46 LOAD_CONST               4 (0.5)\n",
      "             48 BINARY_MULTIPLY\n",
      "             50 BINARY_MULTIPLY\n",
      "             52 BINARY_ADD\n",
      "             54 LOAD_FAST                1 (new_list)\n",
      "             56 LOAD_FAST                2 (idx)\n",
      "             58 STORE_SUBSCR\n",
      "             60 JUMP_ABSOLUTE           24\n",
      "        >>   62 POP_BLOCK\n",
      "\n",
      "  9     >>   64 LOAD_FAST                1 (new_list)\n",
      "             66 RETURN_VALUE\n"
     ]
    }
   ],
   "source": [
    "dis.dis(preallocated_list_from_scratch)"
   ]
  },
  {
   "cell_type": "code",
   "execution_count": 75,
   "metadata": {},
   "outputs": [
    {
     "name": "stdout",
     "output_type": "stream",
     "text": [
      "  4           0 LOAD_CONST               1 (<code object <listcomp> at 0x1031dbe40, file \"<ipython-input-64-60d88a7fc980>\", line 4>)\n",
      "              2 LOAD_CONST               2 ('list_from_comprehension.<locals>.<listcomp>')\n",
      "              4 MAKE_FUNCTION            0\n",
      "              6 LOAD_FAST                0 (old_list)\n",
      "              8 GET_ITER\n",
      "             10 CALL_FUNCTION            1\n",
      "             12 RETURN_VALUE\n",
      "\n",
      "Disassembly of <code object <listcomp> at 0x1031dbe40, file \"<ipython-input-64-60d88a7fc980>\", line 4>:\n",
      "  4           0 BUILD_LIST               0\n",
      "              2 LOAD_FAST                0 (.0)\n",
      "        >>    4 FOR_ITER                28 (to 34)\n",
      "              6 STORE_FAST               1 (elem)\n",
      "              8 LOAD_FAST                1 (elem)\n",
      "             10 LOAD_CONST               0 (2)\n",
      "             12 BINARY_POWER\n",
      "             14 LOAD_CONST               1 (24.0)\n",
      "             16 LOAD_FAST                1 (elem)\n",
      "             18 LOAD_GLOBAL              0 (pi)\n",
      "             20 BINARY_MULTIPLY\n",
      "             22 LOAD_CONST               2 (0.5)\n",
      "             24 BINARY_MULTIPLY\n",
      "             26 BINARY_MULTIPLY\n",
      "             28 BINARY_ADD\n",
      "             30 LIST_APPEND              2\n",
      "             32 JUMP_ABSOLUTE            4\n",
      "        >>   34 RETURN_VALUE\n"
     ]
    }
   ],
   "source": [
    "dis.dis(list_from_comprehension)"
   ]
  }
 ],
 "metadata": {
  "kernelspec": {
   "display_name": "Python 3",
   "language": "python",
   "name": "python3"
  },
  "language_info": {
   "codemirror_mode": {
    "name": "ipython",
    "version": 3
   },
   "file_extension": ".py",
   "mimetype": "text/x-python",
   "name": "python",
   "nbconvert_exporter": "python",
   "pygments_lexer": "ipython3",
   "version": "3.7.2"
  }
 },
 "nbformat": 4,
 "nbformat_minor": 2
}
