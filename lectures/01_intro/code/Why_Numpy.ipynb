{
 "cells": [
  {
   "cell_type": "markdown",
   "metadata": {},
   "source": [
    "## Why do I need an additional library?"
   ]
  },
  {
   "cell_type": "markdown",
   "metadata": {},
   "source": [
    "Let's look at lists to do square matrix-matrix calculations for a start."
   ]
  },
  {
   "cell_type": "code",
   "execution_count": 1,
   "metadata": {},
   "outputs": [],
   "source": [
    "def list_dgemm(A, B):\n",
    "    \"\"\"Does double precision-matrix matrix multiply\n",
    "    A : m x n\n",
    "    B : n x p\n",
    "    \"\"\"\n",
    "    # Preallocate matrix of size m x p\n",
    "    C = [[0.0]*len(A) for _ in range(len(B[0]))]\n",
    "\n",
    "    for i in range(len(A)):\n",
    "        for j in range(len(B)):\n",
    "            for k in range(len(A[0])):\n",
    "                C[i][j]+= A[i][k]*B[k][j]\n",
    "        \n",
    "    return C            "
   ]
  },
  {
   "cell_type": "markdown",
   "metadata": {},
   "source": [
    "Let's create the basic data structures required for this case"
   ]
  },
  {
   "cell_type": "code",
   "execution_count": 2,
   "metadata": {},
   "outputs": [
    {
     "name": "stdout",
     "output_type": "stream",
     "text": [
      "The matrix size is 50x50\n"
     ]
    }
   ],
   "source": [
    "# Problem size\n",
    "N = 50\n",
    "\n",
    "import random\n",
    "# Generate one dimensional list of N numbers\n",
    "A = [random.uniform(1.5, 1.9) for _ in range(N)]\n",
    "\n",
    "# Generate two dimensional lists of N numbers\n",
    "A = [[random.uniform(1.5, 1.9) for _ in range(N)] for _ in range(N)]\n",
    "B = [[random.uniform(1.5, 1.9) for _ in range(N)] for _ in range(N)]\n",
    "\n",
    "# Print dimensions\n",
    "print(\"The matrix size is {0}x{1}\".format(len(A), len(A[0])))"
   ]
  },
  {
   "cell_type": "markdown",
   "metadata": {},
   "source": [
    "### First let's verify that we (or `numpy`) get the right answers."
   ]
  },
  {
   "cell_type": "markdown",
   "metadata": {},
   "source": [
    " Create data for numpy first..."
   ]
  },
  {
   "cell_type": "code",
   "execution_count": 3,
   "metadata": {},
   "outputs": [],
   "source": [
    "import numpy as np\n",
    "np_A = np.array(A)\n",
    "np_B = np.array(B)"
   ]
  },
  {
   "cell_type": "code",
   "execution_count": 4,
   "metadata": {},
   "outputs": [
    {
     "data": {
      "text/plain": [
       "6.252776074688882e-13"
      ]
     },
     "execution_count": 4,
     "metadata": {},
     "output_type": "execute_result"
    }
   ],
   "source": [
    "import numpy as np\n",
    "np_C = np_A@np_B; C = list_dgemm(A,B);\n",
    "np.linalg.norm(np.array(C) - np_C, np.inf)"
   ]
  },
  {
   "cell_type": "markdown",
   "metadata": {},
   "source": [
    "Let's run and time this"
   ]
  },
  {
   "cell_type": "code",
   "execution_count": 5,
   "metadata": {},
   "outputs": [
    {
     "name": "stdout",
     "output_type": "stream",
     "text": [
      "26.2 ms ± 1.52 ms per loop (mean ± std. dev. of 7 runs, 10 loops each)\n"
     ]
    }
   ],
   "source": [
    "%timeit C = list_dgemm(A,B)"
   ]
  },
  {
   "cell_type": "markdown",
   "metadata": {},
   "source": [
    "That's **frustratingly** slooooow. Let's look at `numpy` magic!"
   ]
  },
  {
   "cell_type": "markdown",
   "metadata": {},
   "source": [
    "Let's see the time taken!"
   ]
  },
  {
   "cell_type": "code",
   "execution_count": 6,
   "metadata": {},
   "outputs": [
    {
     "name": "stdout",
     "output_type": "stream",
     "text": [
      "12.9 µs ± 153 ns per loop (mean ± std. dev. of 7 runs, 100000 loops each)\n"
     ]
    }
   ],
   "source": [
    "%timeit np_C = np_A@np_B"
   ]
  },
  {
   "cell_type": "markdown",
   "metadata": {},
   "source": [
    "Show in class : https://jekel.me/2017/Python-with-Numba-faster-than-fortran/"
   ]
  }
 ],
 "metadata": {
  "kernelspec": {
   "display_name": "Python 3",
   "language": "python",
   "name": "python3"
  },
  "language_info": {
   "codemirror_mode": {
    "name": "ipython",
    "version": 3
   },
   "file_extension": ".py",
   "mimetype": "text/x-python",
   "name": "python",
   "nbconvert_exporter": "python",
   "pygments_lexer": "ipython3",
   "version": "3.7.2"
  }
 },
 "nbformat": 4,
 "nbformat_minor": 2
}
