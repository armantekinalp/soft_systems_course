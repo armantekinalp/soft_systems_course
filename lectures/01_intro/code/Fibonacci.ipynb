{
 "cells": [
  {
   "cell_type": "markdown",
   "metadata": {},
   "source": [
    "## Construct recursive solution to the Fibonacci sequence"
   ]
  },
  {
   "cell_type": "code",
   "execution_count": null,
   "metadata": {},
   "outputs": [],
   "source": [
    "def fib_recurse(n):\n",
    "    if n == 0:\n",
    "        return 0\n",
    "    elif n == 1:\n",
    "        return 1\n",
    "    else:\n",
    "        return fib_recurse(n-1) + fib_recurse(n-2)"
   ]
  },
  {
   "cell_type": "code",
   "execution_count": null,
   "metadata": {},
   "outputs": [],
   "source": [
    "# Output should be 55\n",
    "fib_recurse(10)"
   ]
  },
  {
   "cell_type": "markdown",
   "metadata": {},
   "source": [
    "## Construct iterative solution to the Fibonacci sequence"
   ]
  },
  {
   "cell_type": "code",
   "execution_count": null,
   "metadata": {},
   "outputs": [],
   "source": [
    "def fib_iterative(n):\n",
    "    old, new = 0, 1\n",
    "    if n == 0:\n",
    "        return 0\n",
    "    for i in range(n-1):\n",
    "        # # Same as \n",
    "        # tmp = new\n",
    "        # old = tmp\n",
    "        # new = old + new\n",
    "        old, new = new, old + new\n",
    "    return new"
   ]
  },
  {
   "cell_type": "code",
   "execution_count": null,
   "metadata": {},
   "outputs": [],
   "source": [
    "# Output should be 55\n",
    "fib_iterative(10)"
   ]
  },
  {
   "cell_type": "markdown",
   "metadata": {},
   "source": [
    "## How does it compare?"
   ]
  },
  {
   "cell_type": "code",
   "execution_count": null,
   "metadata": {},
   "outputs": [],
   "source": [
    "# Create a function that times the execution of other functions!\n",
    "def my_timeit(func_a, func_b):\n",
    "    from timeit import default_timer\n",
    "\n",
    "    N_EXPERIMENTS = 5\n",
    "    # t1 = Timer(\"fib(10)\",\"from fibonacci import fib\")\n",
    "\n",
    "    for i in range(1,31):\n",
    "        s = \"fib_recurse(\" + str(i) + \")\"\n",
    "\n",
    "        # N timing experiments\n",
    "        time1 = 0.0\n",
    "        for j in range(N_EXPERIMENTS):\n",
    "            t1 = default_timer()\n",
    "            func_a(i)\n",
    "            time1 += default_timer() - t1\n",
    "        time1 /= N_EXPERIMENTS\n",
    "\n",
    "        # N timing experiments\n",
    "        time2 = 0.0\n",
    "        for j in range(N_EXPERIMENTS):\n",
    "            t1 = default_timer()\n",
    "            func_b(i)\n",
    "            time2 += default_timer() - t1\n",
    "        time2 /= N_EXPERIMENTS\n",
    "\n",
    "        # Bad practice. Use format instead!\n",
    "        print(\"n=%2d, recurse: %8.6f, iterate:  %7.6f, percent: %10.2f\" % (i, time1, time2, time1/time2))"
   ]
  },
  {
   "cell_type": "code",
   "execution_count": null,
   "metadata": {},
   "outputs": [],
   "source": [
    "my_timeit(fib_recurse, fib_iterative)"
   ]
  },
  {
   "cell_type": "markdown",
   "metadata": {},
   "source": [
    "## Can we improve? \"Remember\" the latest recursors"
   ]
  },
  {
   "cell_type": "code",
   "execution_count": null,
   "metadata": {},
   "outputs": [],
   "source": [
    "memo = {0:0, 1:1}\n",
    "def fib_memo(n):\n",
    "    if not n in memo:\n",
    "        memo[n] = fib_memo(n-1) + fib_memo(n-2)\n",
    "    return memo[n]"
   ]
  },
  {
   "cell_type": "code",
   "execution_count": null,
   "metadata": {},
   "outputs": [],
   "source": [
    "my_timeit(fib_memo, fib_iterative)"
   ]
  },
  {
   "cell_type": "markdown",
   "metadata": {},
   "source": [
    "## Python also has utilities for this"
   ]
  },
  {
   "cell_type": "code",
   "execution_count": null,
   "metadata": {},
   "outputs": [],
   "source": [
    "import functools\n",
    "\n",
    "# decorators python\n",
    "# https://stackoverflow.com/questions/1988804/what-is-memoization-and-how-can-i-use-it-in-python\n",
    "@functools.lru_cache(maxsize=128)\n",
    "def fib_recurse_memo(n):\n",
    "    if n == 0:\n",
    "        return 0\n",
    "    elif n == 1:\n",
    "        return 1\n",
    "    else:\n",
    "        return fib_recurse_memo(n-1) + fib_recurse_memo(n-2)\n"
   ]
  },
  {
   "cell_type": "code",
   "execution_count": null,
   "metadata": {},
   "outputs": [],
   "source": [
    "my_timeit(fib_recurse_memo, fib_iterative)"
   ]
  },
  {
   "cell_type": "code",
   "execution_count": null,
   "metadata": {},
   "outputs": [],
   "source": []
  }
 ],
 "metadata": {
  "kernelspec": {
   "display_name": "Python 3",
   "language": "python",
   "name": "python3"
  },
  "language_info": {
   "codemirror_mode": {
    "name": "ipython",
    "version": 3
   },
   "file_extension": ".py",
   "mimetype": "text/x-python",
   "name": "python",
   "nbconvert_exporter": "python",
   "pygments_lexer": "ipython3",
   "version": "3.9.6"
  }
 },
 "nbformat": 4,
 "nbformat_minor": 2
}
