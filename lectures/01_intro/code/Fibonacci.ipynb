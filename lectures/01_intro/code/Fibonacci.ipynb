{
 "cells": [
  {
   "cell_type": "markdown",
   "metadata": {},
   "source": [
    "## Construct recursive solution to the Fibonacci sequence"
   ]
  },
  {
   "cell_type": "code",
   "execution_count": 1,
   "metadata": {},
   "outputs": [],
   "source": [
    "def fib_recurse(n):\n",
    "    if n == 0:\n",
    "        return 0\n",
    "    elif n == 1:\n",
    "        return 1\n",
    "    else:\n",
    "        return fib_recurse(n-1) + fib_recurse(n-2)"
   ]
  },
  {
   "cell_type": "code",
   "execution_count": 2,
   "metadata": {},
   "outputs": [
    {
     "data": {
      "text/plain": [
       "55"
      ]
     },
     "execution_count": 2,
     "metadata": {},
     "output_type": "execute_result"
    }
   ],
   "source": [
    "# Output should be 55\n",
    "fib_recurse(10)"
   ]
  },
  {
   "cell_type": "markdown",
   "metadata": {},
   "source": [
    "## Construct iterative solution to the Fibonacci sequence"
   ]
  },
  {
   "cell_type": "code",
   "execution_count": 3,
   "metadata": {},
   "outputs": [],
   "source": [
    "def fib_iterative(n):\n",
    "    old, new = 0, 1\n",
    "    if n == 0:\n",
    "        return 0\n",
    "    for i in range(n-1):\n",
    "        old, new = new, old + new\n",
    "    return new"
   ]
  },
  {
   "cell_type": "code",
   "execution_count": 4,
   "metadata": {},
   "outputs": [
    {
     "data": {
      "text/plain": [
       "55"
      ]
     },
     "execution_count": 4,
     "metadata": {},
     "output_type": "execute_result"
    }
   ],
   "source": [
    "# Output should be 55\n",
    "fib_iterative(10)"
   ]
  },
  {
   "cell_type": "markdown",
   "metadata": {},
   "source": [
    "## How does it compare?"
   ]
  },
  {
   "cell_type": "code",
   "execution_count": 8,
   "metadata": {},
   "outputs": [],
   "source": [
    "# Create a function that times the execution of other functions!\n",
    "def my_timeit(func_a, func_b):\n",
    "    from timeit import default_timer\n",
    "\n",
    "    N_EXPERIMENTS = 5\n",
    "    # t1 = Timer(\"fib(10)\",\"from fibonacci import fib\")\n",
    "\n",
    "    for i in range(1,31):\n",
    "        s = \"fib_recurse(\" + str(i) + \")\"\n",
    "\n",
    "        # N timing experiments\n",
    "        time1 = 0.0\n",
    "        for j in range(N_EXPERIMENTS):\n",
    "            t1 = default_timer()\n",
    "            func_a(i)\n",
    "            time1 += default_timer() - t1\n",
    "        time1 /= N_EXPERIMENTS\n",
    "\n",
    "        # N timing experiments\n",
    "        time2 = 0.0\n",
    "        for j in range(N_EXPERIMENTS):\n",
    "            t1 = default_timer()\n",
    "            func_b(i)\n",
    "            time2 += default_timer() - t1\n",
    "        time2 /= N_EXPERIMENTS\n",
    "\n",
    "        # Bad practice. Use format instead!\n",
    "        print(\"n=%2d, recurse: %8.6f, iterate:  %7.6f, percent: %10.2f\" % (i, time1, time2, time1/time2))"
   ]
  },
  {
   "cell_type": "code",
   "execution_count": 9,
   "metadata": {},
   "outputs": [
    {
     "name": "stdout",
     "output_type": "stream",
     "text": [
      "n= 1, recurse: 0.000000, iterate:  0.000001, percent:       0.55\n",
      "n= 2, recurse: 0.000001, iterate:  0.000001, percent:       1.05\n",
      "n= 3, recurse: 0.000001, iterate:  0.000001, percent:       1.45\n",
      "n= 4, recurse: 0.000002, iterate:  0.000001, percent:       2.26\n",
      "n= 5, recurse: 0.000003, iterate:  0.000001, percent:       3.47\n",
      "n= 6, recurse: 0.000005, iterate:  0.000001, percent:       5.26\n",
      "n= 7, recurse: 0.000007, iterate:  0.000001, percent:       8.30\n",
      "n= 8, recurse: 0.000012, iterate:  0.000001, percent:      12.15\n",
      "n= 9, recurse: 0.000021, iterate:  0.000001, percent:      20.79\n",
      "n=10, recurse: 0.000032, iterate:  0.000001, percent:      30.59\n",
      "n=11, recurse: 0.000051, iterate:  0.000001, percent:      47.63\n",
      "n=12, recurse: 0.000087, iterate:  0.000001, percent:      66.96\n",
      "n=13, recurse: 0.000143, iterate:  0.000001, percent:     113.16\n",
      "n=14, recurse: 0.000211, iterate:  0.000001, percent:     165.90\n",
      "n=15, recurse: 0.000374, iterate:  0.000001, percent:     261.15\n",
      "n=16, recurse: 0.000632, iterate:  0.000001, percent:     423.20\n",
      "n=17, recurse: 0.000832, iterate:  0.000003, percent:     250.23\n",
      "n=18, recurse: 0.001441, iterate:  0.000002, percent:     882.87\n",
      "n=19, recurse: 0.002131, iterate:  0.000002, percent:    1399.26\n",
      "n=20, recurse: 0.003891, iterate:  0.000002, percent:    2238.26\n",
      "n=21, recurse: 0.005935, iterate:  0.000002, percent:    3415.75\n",
      "n=22, recurse: 0.009503, iterate:  0.000002, percent:    5806.65\n",
      "n=23, recurse: 0.015999, iterate:  0.000002, percent:    9515.07\n",
      "n=24, recurse: 0.025653, iterate:  0.000004, percent:    6327.18\n",
      "n=25, recurse: 0.043469, iterate:  0.000003, percent:   16794.97\n",
      "n=26, recurse: 0.070902, iterate:  0.000002, percent:   33872.51\n",
      "n=27, recurse: 0.112982, iterate:  0.000003, percent:   40977.08\n",
      "n=28, recurse: 0.177857, iterate:  0.000003, percent:   64023.24\n",
      "n=29, recurse: 0.287823, iterate:  0.000002, percent:  126083.32\n",
      "n=30, recurse: 0.457983, iterate:  0.000002, percent:  196965.03\n"
     ]
    }
   ],
   "source": [
    "my_timeit(fib_recurse, fib_iterative)"
   ]
  },
  {
   "cell_type": "markdown",
   "metadata": {},
   "source": [
    "## Can we improve? \"Remember\" the latest recursors"
   ]
  },
  {
   "cell_type": "code",
   "execution_count": 12,
   "metadata": {},
   "outputs": [],
   "source": [
    "memo = {0:0, 1:1}\n",
    "def fib_memo(n):\n",
    "    if not n in memo:\n",
    "        memo[n] = fib_memo(n-1) + fib_memo(n-2)\n",
    "    return memo[n]"
   ]
  },
  {
   "cell_type": "code",
   "execution_count": 13,
   "metadata": {},
   "outputs": [
    {
     "name": "stdout",
     "output_type": "stream",
     "text": [
      "n= 1, recurse: 0.000001, iterate:  0.000001, percent:       0.73\n",
      "n= 2, recurse: 0.000001, iterate:  0.000001, percent:       0.71\n",
      "n= 3, recurse: 0.000000, iterate:  0.000001, percent:       0.63\n",
      "n= 4, recurse: 0.000001, iterate:  0.000001, percent:       0.62\n",
      "n= 5, recurse: 0.000001, iterate:  0.000001, percent:       0.83\n",
      "n= 6, recurse: 0.000000, iterate:  0.000001, percent:       0.54\n",
      "n= 7, recurse: 0.000000, iterate:  0.000001, percent:       0.46\n",
      "n= 8, recurse: 0.000000, iterate:  0.000001, percent:       0.45\n",
      "n= 9, recurse: 0.000000, iterate:  0.000001, percent:       0.45\n",
      "n=10, recurse: 0.000001, iterate:  0.000001, percent:       0.68\n",
      "n=11, recurse: 0.000000, iterate:  0.000001, percent:       0.43\n",
      "n=12, recurse: 0.000000, iterate:  0.000001, percent:       0.41\n",
      "n=13, recurse: 0.000001, iterate:  0.000001, percent:       0.51\n",
      "n=14, recurse: 0.000001, iterate:  0.000001, percent:       0.39\n",
      "n=15, recurse: 0.000000, iterate:  0.000001, percent:       0.35\n",
      "n=16, recurse: 0.000000, iterate:  0.000001, percent:       0.30\n",
      "n=17, recurse: 0.000000, iterate:  0.000002, percent:       0.29\n",
      "n=18, recurse: 0.000000, iterate:  0.000002, percent:       0.29\n",
      "n=19, recurse: 0.000000, iterate:  0.000002, percent:       0.27\n",
      "n=20, recurse: 0.000000, iterate:  0.000002, percent:       0.28\n",
      "n=21, recurse: 0.000001, iterate:  0.000002, percent:       0.49\n",
      "n=22, recurse: 0.000000, iterate:  0.000003, percent:       0.14\n",
      "n=23, recurse: 0.000001, iterate:  0.000004, percent:       0.21\n",
      "n=24, recurse: 0.000001, iterate:  0.000004, percent:       0.23\n",
      "n=25, recurse: 0.000001, iterate:  0.000003, percent:       0.21\n",
      "n=26, recurse: 0.000001, iterate:  0.000005, percent:       0.13\n",
      "n=27, recurse: 0.000001, iterate:  0.000004, percent:       0.18\n",
      "n=28, recurse: 0.000001, iterate:  0.000003, percent:       0.20\n",
      "n=29, recurse: 0.000001, iterate:  0.000004, percent:       0.19\n",
      "n=30, recurse: 0.000001, iterate:  0.000004, percent:       0.19\n"
     ]
    }
   ],
   "source": [
    "my_timeit(fib_memo, fib_iterative)"
   ]
  },
  {
   "cell_type": "markdown",
   "metadata": {},
   "source": [
    "## Python also has utilities for this"
   ]
  },
  {
   "cell_type": "code",
   "execution_count": 16,
   "metadata": {},
   "outputs": [],
   "source": [
    "import functools\n",
    "\n",
    "# decorators python\n",
    "# https://stackoverflow.com/questions/1988804/what-is-memoization-and-how-can-i-use-it-in-python\n",
    "@functools.lru_cache(maxsize=128)\n",
    "def fib_recurse_memo(n):\n",
    "    if n == 0:\n",
    "        return 0\n",
    "    elif n == 1:\n",
    "        return 1\n",
    "    else:\n",
    "        return fib_recurse_memo(n-1) + fib_recurse_memo(n-2)\n"
   ]
  },
  {
   "cell_type": "code",
   "execution_count": 17,
   "metadata": {},
   "outputs": [
    {
     "name": "stdout",
     "output_type": "stream",
     "text": [
      "n= 1, recurse: 0.000001, iterate:  0.000001, percent:       0.85\n",
      "n= 2, recurse: 0.000001, iterate:  0.000001, percent:       0.74\n",
      "n= 3, recurse: 0.000001, iterate:  0.000001, percent:       0.99\n",
      "n= 4, recurse: 0.000001, iterate:  0.000001, percent:       0.45\n",
      "n= 5, recurse: 0.000001, iterate:  0.000001, percent:       0.61\n",
      "n= 6, recurse: 0.000001, iterate:  0.000001, percent:       0.67\n",
      "n= 7, recurse: 0.000000, iterate:  0.000001, percent:       0.45\n",
      "n= 8, recurse: 0.000000, iterate:  0.000001, percent:       0.38\n",
      "n= 9, recurse: 0.000000, iterate:  0.000001, percent:       0.36\n",
      "n=10, recurse: 0.000001, iterate:  0.000001, percent:       0.54\n",
      "n=11, recurse: 0.000000, iterate:  0.000001, percent:       0.34\n",
      "n=12, recurse: 0.000000, iterate:  0.000001, percent:       0.34\n",
      "n=13, recurse: 0.000000, iterate:  0.000001, percent:       0.35\n",
      "n=14, recurse: 0.000000, iterate:  0.000001, percent:       0.29\n",
      "n=15, recurse: 0.000000, iterate:  0.000001, percent:       0.28\n",
      "n=16, recurse: 0.000001, iterate:  0.000001, percent:       0.43\n",
      "n=17, recurse: 0.000001, iterate:  0.000002, percent:       0.37\n",
      "n=18, recurse: 0.000001, iterate:  0.000001, percent:       0.40\n",
      "n=19, recurse: 0.000001, iterate:  0.000002, percent:       0.37\n",
      "n=20, recurse: 0.000001, iterate:  0.000002, percent:       0.34\n",
      "n=21, recurse: 0.000001, iterate:  0.000002, percent:       0.53\n",
      "n=22, recurse: 0.000001, iterate:  0.000002, percent:       0.33\n",
      "n=23, recurse: 0.000001, iterate:  0.000002, percent:       0.32\n",
      "n=24, recurse: 0.000001, iterate:  0.000002, percent:       0.29\n",
      "n=25, recurse: 0.000001, iterate:  0.000003, percent:       0.22\n",
      "n=26, recurse: 0.000001, iterate:  0.000002, percent:       0.26\n",
      "n=27, recurse: 0.000000, iterate:  0.000002, percent:       0.22\n",
      "n=28, recurse: 0.000000, iterate:  0.000002, percent:       0.23\n",
      "n=29, recurse: 0.000000, iterate:  0.000002, percent:       0.22\n",
      "n=30, recurse: 0.000000, iterate:  0.000002, percent:       0.22\n"
     ]
    }
   ],
   "source": [
    "my_timeit(fib_recurse_memo, fib_iterative)"
   ]
  }
 ],
 "metadata": {
  "kernelspec": {
   "display_name": "Python 3",
   "language": "python",
   "name": "python3"
  },
  "language_info": {
   "codemirror_mode": {
    "name": "ipython",
    "version": 3
   },
   "file_extension": ".py",
   "mimetype": "text/x-python",
   "name": "python",
   "nbconvert_exporter": "python",
   "pygments_lexer": "ipython3",
   "version": "3.7.2"
  }
 },
 "nbformat": 4,
 "nbformat_minor": 2
}
