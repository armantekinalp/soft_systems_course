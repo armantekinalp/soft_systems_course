{
 "cells": [
  {
   "cell_type": "markdown",
   "metadata": {},
   "source": [
    "## Construct recursive solution to the Fibonacci sequence"
   ]
  },
  {
   "cell_type": "code",
   "execution_count": 2,
   "metadata": {},
   "outputs": [],
   "source": [
    "def fib_recurse(n):\n",
    "    if n == 0:\n",
    "        return 0\n",
    "    elif n == 1:\n",
    "        return 1\n",
    "    else:\n",
    "        return fib_recurse(n-1) + fib_recurse(n-2)"
   ]
  },
  {
   "cell_type": "code",
   "execution_count": 3,
   "metadata": {},
   "outputs": [
    {
     "data": {
      "text/plain": [
       "55"
      ]
     },
     "execution_count": 3,
     "metadata": {},
     "output_type": "execute_result"
    }
   ],
   "source": [
    "# Output should be 55\n",
    "fib_recurse(10)"
   ]
  },
  {
   "cell_type": "markdown",
   "metadata": {},
   "source": [
    "## Construct iterative solution to the Fibonacci sequence"
   ]
  },
  {
   "cell_type": "code",
   "execution_count": 5,
   "metadata": {},
   "outputs": [],
   "source": [
    "def fib_iterative(n):\n",
    "    old, new = 0, 1\n",
    "    if n == 0:\n",
    "        return 0\n",
    "    for i in range(n-1):\n",
    "        old, new = new, old + new\n",
    "    return new"
   ]
  },
  {
   "cell_type": "code",
   "execution_count": 6,
   "metadata": {},
   "outputs": [
    {
     "data": {
      "text/plain": [
       "55"
      ]
     },
     "execution_count": 6,
     "metadata": {},
     "output_type": "execute_result"
    }
   ],
   "source": [
    "# Output should be 55\n",
    "fib_iterative(10)"
   ]
  },
  {
   "cell_type": "markdown",
   "metadata": {},
   "source": [
    "## How does it compare?"
   ]
  },
  {
   "cell_type": "code",
   "execution_count": 7,
   "metadata": {},
   "outputs": [],
   "source": [
    "# Create a function that times the execution of other functions!\n",
    "def my_timeit(func_a, func_b):\n",
    "    from timeit import default_timer\n",
    "\n",
    "    N_EXPERIMENTS = 5\n",
    "    # t1 = Timer(\"fib(10)\",\"from fibonacci import fib\")\n",
    "\n",
    "    for i in range(1,31):\n",
    "        s = \"fib_recurse(\" + str(i) + \")\"\n",
    "\n",
    "        # N timing experiments\n",
    "        time1 = 0.0\n",
    "        for j in range(N_EXPERIMENTS):\n",
    "            t1 = default_timer()\n",
    "            func_a(i)\n",
    "            time1 += default_timer() - t1\n",
    "        time1 /= N_EXPERIMENTS\n",
    "\n",
    "        # N timing experiments\n",
    "        time2 = 0.0\n",
    "        for j in range(N_EXPERIMENTS):\n",
    "            t1 = default_timer()\n",
    "            func_b(i)\n",
    "            time2 += default_timer() - t1\n",
    "        time2 /= N_EXPERIMENTS\n",
    "\n",
    "        # Bad practice. Use format instead!\n",
    "        print(\"n=%2d, recurse: %8.6f, iterate:  %7.6f, percent: %10.2f\" % (i, time1, time2, time1/time2))"
   ]
  },
  {
   "cell_type": "code",
   "execution_count": 8,
   "metadata": {},
   "outputs": [
    {
     "name": "stdout",
     "output_type": "stream",
     "text": [
      "n= 1, recurse: 0.000000, iterate:  0.000001, percent:       0.56\n",
      "n= 2, recurse: 0.000001, iterate:  0.000001, percent:       1.06\n",
      "n= 3, recurse: 0.000001, iterate:  0.000001, percent:       1.41\n",
      "n= 4, recurse: 0.000002, iterate:  0.000001, percent:       2.25\n",
      "n= 5, recurse: 0.000003, iterate:  0.000001, percent:       3.56\n",
      "n= 6, recurse: 0.000006, iterate:  0.000001, percent:       6.35\n",
      "n= 7, recurse: 0.000008, iterate:  0.000001, percent:       8.53\n",
      "n= 8, recurse: 0.000012, iterate:  0.000001, percent:      13.13\n",
      "n= 9, recurse: 0.000020, iterate:  0.000003, percent:       7.15\n",
      "n=10, recurse: 0.000032, iterate:  0.000001, percent:      30.85\n",
      "n=11, recurse: 0.000056, iterate:  0.000001, percent:      50.39\n",
      "n=12, recurse: 0.000079, iterate:  0.000001, percent:      67.68\n",
      "n=13, recurse: 0.000126, iterate:  0.000001, percent:     111.67\n",
      "n=14, recurse: 0.000206, iterate:  0.000001, percent:     171.14\n",
      "n=15, recurse: 0.000332, iterate:  0.000001, percent:     236.87\n",
      "n=16, recurse: 0.000522, iterate:  0.000002, percent:     317.35\n",
      "n=17, recurse: 0.000962, iterate:  0.000002, percent:     527.55\n",
      "n=18, recurse: 0.001535, iterate:  0.000003, percent:     562.91\n",
      "n=19, recurse: 0.002427, iterate:  0.000002, percent:    1275.90\n",
      "n=20, recurse: 0.003877, iterate:  0.000002, percent:    2138.84\n",
      "n=21, recurse: 0.006124, iterate:  0.000002, percent:    3796.24\n",
      "n=22, recurse: 0.009642, iterate:  0.000002, percent:    5838.27\n",
      "n=23, recurse: 0.016119, iterate:  0.000002, percent:    8663.08\n",
      "n=24, recurse: 0.025036, iterate:  0.000002, percent:   12841.59\n",
      "n=25, recurse: 0.041768, iterate:  0.000002, percent:   21974.12\n",
      "n=26, recurse: 0.064076, iterate:  0.000002, percent:   31583.09\n",
      "n=27, recurse: 0.106226, iterate:  0.000002, percent:   46391.07\n",
      "n=28, recurse: 0.170354, iterate:  0.000002, percent:   80393.40\n",
      "n=29, recurse: 0.282127, iterate:  0.000002, percent:  115531.26\n",
      "n=30, recurse: 0.487927, iterate:  0.000003, percent:  188650.93\n"
     ]
    }
   ],
   "source": [
    "my_timeit(fib_recurse, fib_iterative)"
   ]
  },
  {
   "cell_type": "markdown",
   "metadata": {},
   "source": [
    "## Can we improve? \"Remember\" the latest recursors"
   ]
  },
  {
   "cell_type": "code",
   "execution_count": 10,
   "metadata": {},
   "outputs": [],
   "source": [
    "memo = {0:0, 1:1}\n",
    "def fib_memo(n):\n",
    "    if not n in memo:\n",
    "        memo[n] = fib_memo(n-1) + fib_memo(n-2)\n",
    "    return memo[n]"
   ]
  },
  {
   "cell_type": "code",
   "execution_count": 11,
   "metadata": {},
   "outputs": [
    {
     "name": "stdout",
     "output_type": "stream",
     "text": [
      "n= 1, recurse: 0.000001, iterate:  0.000001, percent:       0.66\n",
      "n= 2, recurse: 0.000001, iterate:  0.000001, percent:       0.67\n",
      "n= 3, recurse: 0.000000, iterate:  0.000001, percent:       0.62\n",
      "n= 4, recurse: 0.000001, iterate:  0.000001, percent:       0.78\n",
      "n= 5, recurse: 0.000001, iterate:  0.000001, percent:       0.66\n",
      "n= 6, recurse: 0.000000, iterate:  0.000001, percent:       0.51\n",
      "n= 7, recurse: 0.000000, iterate:  0.000001, percent:       0.46\n",
      "n= 8, recurse: 0.000001, iterate:  0.000001, percent:       0.60\n",
      "n= 9, recurse: 0.000000, iterate:  0.000001, percent:       0.44\n",
      "n=10, recurse: 0.000001, iterate:  0.000001, percent:       0.61\n",
      "n=11, recurse: 0.000000, iterate:  0.000001, percent:       0.40\n",
      "n=12, recurse: 0.000000, iterate:  0.000001, percent:       0.38\n",
      "n=13, recurse: 0.000001, iterate:  0.000001, percent:       0.52\n",
      "n=14, recurse: 0.000001, iterate:  0.000001, percent:       0.67\n",
      "n=15, recurse: 0.000001, iterate:  0.000003, percent:       0.32\n",
      "n=16, recurse: 0.000001, iterate:  0.000002, percent:       0.34\n",
      "n=17, recurse: 0.000001, iterate:  0.000002, percent:       0.42\n",
      "n=18, recurse: 0.000001, iterate:  0.000002, percent:       0.44\n",
      "n=19, recurse: 0.000001, iterate:  0.000002, percent:       0.29\n",
      "n=20, recurse: 0.000001, iterate:  0.000002, percent:       0.27\n",
      "n=21, recurse: 0.000001, iterate:  0.000002, percent:       0.52\n",
      "n=22, recurse: 0.000000, iterate:  0.000002, percent:       0.24\n",
      "n=23, recurse: 0.000001, iterate:  0.000002, percent:       0.40\n",
      "n=24, recurse: 0.000001, iterate:  0.000002, percent:       0.39\n",
      "n=25, recurse: 0.000001, iterate:  0.000002, percent:       0.34\n",
      "n=26, recurse: 0.000000, iterate:  0.000002, percent:       0.22\n",
      "n=27, recurse: 0.000000, iterate:  0.000002, percent:       0.20\n",
      "n=28, recurse: 0.000001, iterate:  0.000003, percent:       0.31\n",
      "n=29, recurse: 0.000000, iterate:  0.000002, percent:       0.20\n",
      "n=30, recurse: 0.000000, iterate:  0.000003, percent:       0.18\n"
     ]
    }
   ],
   "source": [
    "my_timeit(fib_memo, fib_iterative)"
   ]
  },
  {
   "cell_type": "markdown",
   "metadata": {},
   "source": [
    "## Python also has utilities for this"
   ]
  },
  {
   "cell_type": "code",
   "execution_count": 12,
   "metadata": {},
   "outputs": [],
   "source": [
    "import functools\n",
    "\n",
    "# decorators python\n",
    "# https://stackoverflow.com/questions/1988804/what-is-memoization-and-how-can-i-use-it-in-python\n",
    "@functools.lru_cache(maxsize=128)\n",
    "def fib_recurse_memo(n):\n",
    "    if n == 0:\n",
    "        return 0\n",
    "    elif n == 1:\n",
    "        return 1\n",
    "    else:\n",
    "        return fib_recurse_memo(n-1) + fib_recurse_memo(n-2)\n"
   ]
  },
  {
   "cell_type": "code",
   "execution_count": 13,
   "metadata": {},
   "outputs": [
    {
     "name": "stdout",
     "output_type": "stream",
     "text": [
      "n= 1, recurse: 0.000001, iterate:  0.000001, percent:       0.81\n",
      "n= 2, recurse: 0.000001, iterate:  0.000001, percent:       0.88\n",
      "n= 3, recurse: 0.000000, iterate:  0.000001, percent:       0.51\n",
      "n= 4, recurse: 0.000000, iterate:  0.000001, percent:       0.47\n",
      "n= 5, recurse: 0.000000, iterate:  0.000001, percent:       0.52\n",
      "n= 6, recurse: 0.000000, iterate:  0.000001, percent:       0.40\n",
      "n= 7, recurse: 0.000000, iterate:  0.000001, percent:       0.38\n",
      "n= 8, recurse: 0.000000, iterate:  0.000001, percent:       0.39\n",
      "n= 9, recurse: 0.000000, iterate:  0.000001, percent:       0.36\n",
      "n=10, recurse: 0.000001, iterate:  0.000001, percent:       0.54\n",
      "n=11, recurse: 0.000000, iterate:  0.000001, percent:       0.32\n",
      "n=12, recurse: 0.000000, iterate:  0.000001, percent:       0.31\n",
      "n=13, recurse: 0.000000, iterate:  0.000001, percent:       0.30\n",
      "n=14, recurse: 0.000000, iterate:  0.000001, percent:       0.27\n",
      "n=15, recurse: 0.000000, iterate:  0.000001, percent:       0.26\n",
      "n=16, recurse: 0.000001, iterate:  0.000002, percent:       0.42\n",
      "n=17, recurse: 0.000000, iterate:  0.000002, percent:       0.27\n",
      "n=18, recurse: 0.000000, iterate:  0.000002, percent:       0.24\n",
      "n=19, recurse: 0.000000, iterate:  0.000002, percent:       0.23\n",
      "n=20, recurse: 0.000000, iterate:  0.000002, percent:       0.22\n",
      "n=21, recurse: 0.000001, iterate:  0.000007, percent:       0.19\n",
      "n=22, recurse: 0.000001, iterate:  0.000002, percent:       0.32\n",
      "n=23, recurse: 0.000001, iterate:  0.000002, percent:       0.24\n",
      "n=24, recurse: 0.000000, iterate:  0.000002, percent:       0.20\n",
      "n=25, recurse: 0.000000, iterate:  0.000002, percent:       0.19\n",
      "n=26, recurse: 0.000000, iterate:  0.000002, percent:       0.19\n",
      "n=27, recurse: 0.000000, iterate:  0.000002, percent:       0.18\n",
      "n=28, recurse: 0.000000, iterate:  0.000002, percent:       0.17\n",
      "n=29, recurse: 0.000000, iterate:  0.000002, percent:       0.17\n",
      "n=30, recurse: 0.000000, iterate:  0.000003, percent:       0.16\n"
     ]
    }
   ],
   "source": [
    "my_timeit(fib_recurse_memo, fib_iterative)"
   ]
  },
  {
   "cell_type": "code",
   "execution_count": null,
   "metadata": {},
   "outputs": [],
   "source": []
  }
 ],
 "metadata": {
  "kernelspec": {
   "display_name": "Python 3",
   "language": "python",
   "name": "python3"
  },
  "language_info": {
   "codemirror_mode": {
    "name": "ipython",
    "version": 3
   },
   "file_extension": ".py",
   "mimetype": "text/x-python",
   "name": "python",
   "nbconvert_exporter": "python",
   "pygments_lexer": "ipython3",
   "version": "3.7.2"
  }
 },
 "nbformat": 4,
 "nbformat_minor": 2
}
