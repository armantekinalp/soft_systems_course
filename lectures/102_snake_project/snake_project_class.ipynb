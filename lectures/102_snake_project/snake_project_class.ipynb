{
 "cells": [
  {
   "cell_type": "code",
   "execution_count": null,
   "metadata": {},
   "outputs": [],
   "source": [
    "import numpy as np\n",
    "from matplotlib import pyplot as plt"
   ]
  },
  {
   "cell_type": "markdown",
   "metadata": {},
   "source": [
    "For the cosserat rod equations, there are two kinematic equations (one related to translations and another related to rotations) and two dynamic equations (again, one related to translations and another related to rotations). So we tackle this problem in increasing levels of complexity via these milestones:\n",
    "\n",
    "1) first tackle translations (which are easier to implement) by testing the equations on an elastic beam that is fixed on one end and has a small axial force on the one end. Because the beam is elastic, and the axial force is small, the entire beam behaves like a spring. We can then plot look at how much the beam stretches, which should correspond with analytical spring equations. This is milestone 1."
   ]
  },
  {
   "cell_type": "code",
   "execution_count": null,
   "metadata": {},
   "outputs": [],
   "source": [
    "# My simple cosserat rod\n",
    "\n",
    "n_elements = 20\n",
    "\n",
    "\n",
    "\"\"\"\n",
    "nodal quantities\n",
    "\"\"\"\n",
    "n_nodes = n_elements + 1\n",
    "forces = np.zeros((3, n_nodes))\n",
    "velocities = np.zeros((3, n_nodes))\n",
    "\n",
    "needs_to_be_initialized = []\n",
    "\n",
    "masses = np.zeros((1, n_nodes)) # needs to be initialized\n",
    "needs_to_be_initialized.append(\"masses\")\n",
    "positions = np.ones((3, n_nodes)) # needs to be initialized\n",
    "needs_to_be_initialized.append(\"positions\")\n",
    "\n",
    "\"\"\"\n",
    "element quantities\n",
    "\"\"\"\n",
    "lengths_bold = positions[:, 1:] - positions[:, :-1]\n",
    "lengths_norm = np.linalg.norm(lengths_bold, \n",
    "                              axis=0, \n",
    "                              keepdims=True)\n",
    "\n",
    "# reference_lengths_bold = lengths_bold.copy() \n",
    "reference_lengths_bold =  np.ones((3, n_elements))\n",
    "reference_lengths_norm = np.linalg.norm(reference_lengths_bold, \n",
    "                                        axis=0, \n",
    "                                        keepdims=True)\n",
    "tangents = lengths_bold / lengths_norm\n",
    "dilatations = lengths_norm / reference_lengths_norm\n",
    "\n",
    "# \n",
    "# directors = [np.eye(3) for _ in range(n_elements)]\n",
    "# directors = np.array([np.eye(3) for _ in range(n_elements)])\n",
    "# \n",
    "directors = np.zeros((3, 3, n_elements))\n",
    "for idx in range(n_elements):\n",
    "    directors[:, :, idx] = np.eye(3)\n",
    "needs_to_be_initialized.append(\"directors\")\n",
    "    \n",
    "radius = np.ones((1, n_elements)) \n",
    "needs_to_be_initialized.append(\"radius\")\n",
    "\n",
    "areas = np.pi * (radius**2)\n",
    "# Oracle gave it to us\n",
    "G = 20\n",
    "E = 40\n",
    "shear_stiffness_matrix = np.zeros((3, 3, n_elements))\n",
    "alpha_c = 4.0 / 3.0\n",
    "shear_stiffness_matrix[0, 0, :] = alpha_c * G * areas\n",
    "shear_stiffness_matrix[1, 1, :] = alpha_c * G * areas\n",
    "shear_stiffness_matrix[2, 2, :] = E * areas\n",
    "\n",
    "needs_to_be_initialized.append(\"shear_stiffness_matrix\")\n",
    "\n",
    "# sigma\n",
    "shear_stretch_strains = dilatations * tangents - directors[2, :, :]"
   ]
  },
  {
   "cell_type": "code",
   "execution_count": null,
   "metadata": {},
   "outputs": [],
   "source": [
    "needs_to_be_initialized"
   ]
  },
  {
   "cell_type": "code",
   "execution_count": null,
   "metadata": {},
   "outputs": [],
   "source": [
    "# Modified trapezoidal integration\n",
    "def modified_diff(t_x):\n",
    "    \"\"\" Modified trapezoidal integration\"\"\"\n",
    "    # Pads a 0 at the end of an array\n",
    "    temp = np.pad(t_x, (0,1), \n",
    "                  'constant', \n",
    "                  constant_values=(0,0)) # Using roll calculate the diff (ghost node of 0)\n",
    "    return (temp - np.roll(temp, 1))"
   ]
  },
  {
   "cell_type": "code",
   "execution_count": null,
   "metadata": {},
   "outputs": [],
   "source": [
    "shear_stretch_strains = dilatations * tangents - directors[2, :, :]\n",
    "\n",
    "# dv_dt\n",
    "(modified_diff(shear_stiffness_matrix @ shear_stretch_strains \n",
    "               / dilatations) + forces) / masses "
   ]
  },
  {
   "cell_type": "code",
   "execution_count": null,
   "metadata": {},
   "outputs": [],
   "source": [
    "# (3, n_nodes)\n",
    "# x x x x x .... \n",
    "# y y y y y ....\n",
    "# z z z z z ....\n",
    "\n",
    "# x x x x x .... x y y y y y .... y z z z z z ....z \n",
    "\n",
    "\n",
    "# (n_nodes, 3)\n",
    "# x y z\n",
    "# x y z\n",
    "# ...\n",
    "# x y z\n",
    "# x y z x y z x yz ........\n"
   ]
  },
  {
   "cell_type": "code",
   "execution_count": null,
   "metadata": {},
   "outputs": [],
   "source": [
    "def position_verlet(dt, x, v, a):\n",
    "    \"\"\"Does one iteration/timestep using the Position verlet scheme\n",
    "    \n",
    "    Parameters\n",
    "    ----------\n",
    "    dt : float\n",
    "        Simulation timestep in seconds\n",
    "    x : float/array-like\n",
    "        Quantity of interest / position of COM\n",
    "    v : float/array-like\n",
    "        Quantity of interest / velocity of COM\n",
    "    force_rule : ufunc\n",
    "        A function, f, that takes one argument and\n",
    "        returns the instantaneous forcing\n",
    "\n",
    "    Returns\n",
    "    -------\n",
    "    x_n : float/array-like\n",
    "        The quantity of interest at the Next time step\n",
    "    v_n : float/array-like\n",
    "        The quantity of interest at the Next time step\n",
    "    \"\"\"\n",
    "    temp_x = x + 0.5*dt*v\n",
    "    v_n = v + dt * force_rule(temp_x)\n",
    "    x_n = temp_x + 0.5 * dt * v_n\n",
    "    return x_n, v_n\n",
    "\n",
    "a.timestep_using(position_verlet)"
   ]
  },
  {
   "cell_type": "code",
   "execution_count": null,
   "metadata": {},
   "outputs": [],
   "source": []
  }
 ],
 "metadata": {
  "kernelspec": {
   "display_name": "Python 3",
   "language": "python",
   "name": "python3"
  },
  "language_info": {
   "codemirror_mode": {
    "name": "ipython",
    "version": 3
   },
   "file_extension": ".py",
   "mimetype": "text/x-python",
   "name": "python",
   "nbconvert_exporter": "python",
   "pygments_lexer": "ipython3",
   "version": "3.9.6"
  }
 },
 "nbformat": 4,
 "nbformat_minor": 4
}
